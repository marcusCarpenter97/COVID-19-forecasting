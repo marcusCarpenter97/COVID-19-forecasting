{
 "cells": [
  {
   "cell_type": "markdown",
   "metadata": {},
   "source": [
    "# Table of contents:"
   ]
  },
  {
   "cell_type": "markdown",
   "metadata": {},
   "source": [
    "* 1\\. [The data](#data)<br>\n",
    "* 2\\. [Objectives](#obj)<br>\n",
    "    * 2.1. [Predict current infected](#obj_predcur)<br>\n",
    "    * 2.2. [Predict deceased](#obj_preddece)<br>\n",
    "    * 2.3. [How well can the LSTM model the problem?](#obj_gener)<br>\n",
    "    * 2.4. [How does the LSTM perform when compared with other models?](#obj_comp)<br>\n",
    "* 3\\. [Time series analysis](#time)<br>\n",
    "    * 3.2. [Present the data](#time_data)<br>\n",
    "    * 3.3. [Why stationary?](#time_station)<br>\n",
    "    * 3.4. [ADF and KPSS tests](#time_tests)<br>\n",
    "    * 3.5. [Making the time series stationary](#time_transf)<br>\n",
    "         * 3.4.1. [Differencing](#time_transf_diff)<br>\n",
    "         * 3.4.2. [Gaussian Curve](#time_transf_gauss)<br>\n",
    "* 4\\. [Preparing the data for the Neural Network](#prep)<br>\n",
    "    * 4.1. [Train and test](#prep_traintest)<br>\n",
    "    * 4.2. [Supervised learning](#prep_super)<br>\n",
    "* 5\\. [The LSTM](#lstm)<br>\n",
    "    * 5.1. [Input, hidden and output layers](#lstm_layers)<br>\n",
    "    * 5.2. [Training the model](#lstm_train)<br>\n",
    "    * 5.3. [Does differencing make a difference?](#lstm_diff)<br>\n",
    "    * 5.4. [Results on global data](#lstm_global)<br>\n",
    "    * 5.5. [Can it generalize?](#lstm_gener)<br>\n",
    "* 6\\. [The GRU](#gru)<br>\n",
    "    * 6.1. [Input, hidden and output layers](#gru_layers)<br>\n",
    "    * 6.2. [Training the model](#gru_train)<br>\n",
    "    * 6.3. [Results on global data](#gru_global)<br>\n",
    "* 7\\. [Summary of results](#summary)<br>\n",
    "    * 7.1. [Plot predictions of all algorithms over the original data](#summary_global)<br>\n",
    "    * 7.2. [Summarize findings](#summary_findings)"
   ]
  },
  {
   "cell_type": "code",
   "execution_count": 65,
   "metadata": {},
   "outputs": [],
   "source": [
    "import os\n",
    "os.environ['TF_CPP_MIN_LOG_LEVEL'] = '3'  # Reduces tensorflow messages."
   ]
  },
  {
   "cell_type": "code",
   "execution_count": 66,
   "metadata": {},
   "outputs": [],
   "source": [
    "import warnings\n",
    "warnings.filterwarnings('ignore')  # Reduces warning messages."
   ]
  },
  {
   "cell_type": "code",
   "execution_count": 67,
   "metadata": {},
   "outputs": [],
   "source": [
    "from keras.models import Sequential\n",
    "from keras.layers import LSTM, GRU, Dense, Activation, Dropout\n",
    "from keras.callbacks.callbacks import EarlyStopping"
   ]
  },
  {
   "cell_type": "code",
   "execution_count": 68,
   "metadata": {},
   "outputs": [],
   "source": [
    "import data_handler  # Custom module used to fetch and prepare data from GitHub."
   ]
  },
  {
   "cell_type": "code",
   "execution_count": 69,
   "metadata": {},
   "outputs": [],
   "source": [
    "import pandas as pd\n",
    "import numpy as np"
   ]
  },
  {
   "cell_type": "code",
   "execution_count": 70,
   "metadata": {},
   "outputs": [],
   "source": [
    "from scipy.stats import boxcox\n",
    "from statsmodels.tsa.stattools import adfuller, kpss"
   ]
  },
  {
   "cell_type": "code",
   "execution_count": 71,
   "metadata": {},
   "outputs": [],
   "source": [
    "import matplotlib.pyplot as plt\n",
    "plt.rcParams['figure.figsize'] = [10, 5]  # Adjust plot sizes."
   ]
  },
  {
   "cell_type": "markdown",
   "metadata": {},
   "source": [
    "Function to help plot data."
   ]
  },
  {
   "cell_type": "code",
   "execution_count": 72,
   "metadata": {},
   "outputs": [],
   "source": [
    "def plot_data(data_to_plot, title, legend, x_label, y_label, adjust_xaxis=True):\n",
    "    fig, ax = plt.subplots()\n",
    "    for dataset in data_to_plot:\n",
    "        ax.plot(dataset)\n",
    "    ax.set_title(title)\n",
    "    ax.legend(legend, loc='best')\n",
    "    ax.set_ylabel(y_label)\n",
    "    ax.set_xlabel(x_label)\n",
    "\n",
    "    # Prevent the x-axis labels from overlapping.\n",
    "    if adjust_xaxis:\n",
    "        start, end = ax.get_xlim()\n",
    "        ax.xaxis.set_ticks(np.arange(start, end, 4))\n",
    "        fig.autofmt_xdate()"
   ]
  },
  {
   "cell_type": "markdown",
   "metadata": {},
   "source": [
    "# 1. The data <a name=\"data\"></a>"
   ]
  },
  {
   "cell_type": "markdown",
   "metadata": {},
   "source": [
    "Before any analysis can be done it is important to understand the data we will be working with. The data comes from the<br>\n",
    "[Johns Hopkins University GitHub repository](https://github.com/CSSEGISandData/COVID-19/tree/master/csse_covid_19_data/csse_covid_19_time_series). This data set provides three time series; the total infected, recovered and deceased."
   ]
  },
  {
   "cell_type": "markdown",
   "metadata": {},
   "source": [
    "This function fetches the data from the GitHub repository, if necessary, and returns a list of dataframes with each time series."
   ]
  },
  {
   "cell_type": "code",
   "execution_count": 73,
   "metadata": {},
   "outputs": [],
   "source": [
    "raw_data = data_handler.load_data()"
   ]
  },
  {
   "cell_type": "markdown",
   "metadata": {},
   "source": [
    "Here is how the data looks like in table format."
   ]
  },
  {
   "cell_type": "code",
   "execution_count": 74,
   "metadata": {},
   "outputs": [
    {
     "data": {
      "text/html": [
       "<div>\n",
       "<style scoped>\n",
       "    .dataframe tbody tr th:only-of-type {\n",
       "        vertical-align: middle;\n",
       "    }\n",
       "\n",
       "    .dataframe tbody tr th {\n",
       "        vertical-align: top;\n",
       "    }\n",
       "\n",
       "    .dataframe thead th {\n",
       "        text-align: right;\n",
       "    }\n",
       "</style>\n",
       "<table border=\"1\" class=\"dataframe\">\n",
       "  <thead>\n",
       "    <tr style=\"text-align: right;\">\n",
       "      <th></th>\n",
       "      <th>Province/State</th>\n",
       "      <th>Country/Region</th>\n",
       "      <th>Lat</th>\n",
       "      <th>Long</th>\n",
       "      <th>1/22/20</th>\n",
       "      <th>1/23/20</th>\n",
       "      <th>1/24/20</th>\n",
       "      <th>1/25/20</th>\n",
       "      <th>1/26/20</th>\n",
       "      <th>1/27/20</th>\n",
       "      <th>...</th>\n",
       "      <th>4/27/20</th>\n",
       "      <th>4/28/20</th>\n",
       "      <th>4/29/20</th>\n",
       "      <th>4/30/20</th>\n",
       "      <th>5/1/20</th>\n",
       "      <th>5/2/20</th>\n",
       "      <th>5/3/20</th>\n",
       "      <th>5/4/20</th>\n",
       "      <th>5/5/20</th>\n",
       "      <th>5/6/20</th>\n",
       "    </tr>\n",
       "  </thead>\n",
       "  <tbody>\n",
       "    <tr>\n",
       "      <th>0</th>\n",
       "      <td>NaN</td>\n",
       "      <td>Afghanistan</td>\n",
       "      <td>33.0000</td>\n",
       "      <td>65.0000</td>\n",
       "      <td>0</td>\n",
       "      <td>0</td>\n",
       "      <td>0</td>\n",
       "      <td>0</td>\n",
       "      <td>0</td>\n",
       "      <td>0</td>\n",
       "      <td>...</td>\n",
       "      <td>1703</td>\n",
       "      <td>1828</td>\n",
       "      <td>1939</td>\n",
       "      <td>2171</td>\n",
       "      <td>2335</td>\n",
       "      <td>2469</td>\n",
       "      <td>2704</td>\n",
       "      <td>2894</td>\n",
       "      <td>3224</td>\n",
       "      <td>3392</td>\n",
       "    </tr>\n",
       "    <tr>\n",
       "      <th>1</th>\n",
       "      <td>NaN</td>\n",
       "      <td>Albania</td>\n",
       "      <td>41.1533</td>\n",
       "      <td>20.1683</td>\n",
       "      <td>0</td>\n",
       "      <td>0</td>\n",
       "      <td>0</td>\n",
       "      <td>0</td>\n",
       "      <td>0</td>\n",
       "      <td>0</td>\n",
       "      <td>...</td>\n",
       "      <td>736</td>\n",
       "      <td>750</td>\n",
       "      <td>766</td>\n",
       "      <td>773</td>\n",
       "      <td>782</td>\n",
       "      <td>789</td>\n",
       "      <td>795</td>\n",
       "      <td>803</td>\n",
       "      <td>820</td>\n",
       "      <td>832</td>\n",
       "    </tr>\n",
       "    <tr>\n",
       "      <th>2</th>\n",
       "      <td>NaN</td>\n",
       "      <td>Algeria</td>\n",
       "      <td>28.0339</td>\n",
       "      <td>1.6596</td>\n",
       "      <td>0</td>\n",
       "      <td>0</td>\n",
       "      <td>0</td>\n",
       "      <td>0</td>\n",
       "      <td>0</td>\n",
       "      <td>0</td>\n",
       "      <td>...</td>\n",
       "      <td>3517</td>\n",
       "      <td>3649</td>\n",
       "      <td>3848</td>\n",
       "      <td>4006</td>\n",
       "      <td>4154</td>\n",
       "      <td>4295</td>\n",
       "      <td>4474</td>\n",
       "      <td>4648</td>\n",
       "      <td>4838</td>\n",
       "      <td>4997</td>\n",
       "    </tr>\n",
       "    <tr>\n",
       "      <th>3</th>\n",
       "      <td>NaN</td>\n",
       "      <td>Andorra</td>\n",
       "      <td>42.5063</td>\n",
       "      <td>1.5218</td>\n",
       "      <td>0</td>\n",
       "      <td>0</td>\n",
       "      <td>0</td>\n",
       "      <td>0</td>\n",
       "      <td>0</td>\n",
       "      <td>0</td>\n",
       "      <td>...</td>\n",
       "      <td>743</td>\n",
       "      <td>743</td>\n",
       "      <td>743</td>\n",
       "      <td>745</td>\n",
       "      <td>745</td>\n",
       "      <td>747</td>\n",
       "      <td>748</td>\n",
       "      <td>750</td>\n",
       "      <td>751</td>\n",
       "      <td>751</td>\n",
       "    </tr>\n",
       "    <tr>\n",
       "      <th>4</th>\n",
       "      <td>NaN</td>\n",
       "      <td>Angola</td>\n",
       "      <td>-11.2027</td>\n",
       "      <td>17.8739</td>\n",
       "      <td>0</td>\n",
       "      <td>0</td>\n",
       "      <td>0</td>\n",
       "      <td>0</td>\n",
       "      <td>0</td>\n",
       "      <td>0</td>\n",
       "      <td>...</td>\n",
       "      <td>27</td>\n",
       "      <td>27</td>\n",
       "      <td>27</td>\n",
       "      <td>27</td>\n",
       "      <td>30</td>\n",
       "      <td>35</td>\n",
       "      <td>35</td>\n",
       "      <td>35</td>\n",
       "      <td>36</td>\n",
       "      <td>36</td>\n",
       "    </tr>\n",
       "  </tbody>\n",
       "</table>\n",
       "<p>5 rows × 110 columns</p>\n",
       "</div>"
      ],
      "text/plain": [
       "  Province/State Country/Region      Lat     Long  1/22/20  1/23/20  1/24/20  \\\n",
       "0            NaN    Afghanistan  33.0000  65.0000        0        0        0   \n",
       "1            NaN        Albania  41.1533  20.1683        0        0        0   \n",
       "2            NaN        Algeria  28.0339   1.6596        0        0        0   \n",
       "3            NaN        Andorra  42.5063   1.5218        0        0        0   \n",
       "4            NaN         Angola -11.2027  17.8739        0        0        0   \n",
       "\n",
       "   1/25/20  1/26/20  1/27/20  ...  4/27/20  4/28/20  4/29/20  4/30/20  5/1/20  \\\n",
       "0        0        0        0  ...     1703     1828     1939     2171    2335   \n",
       "1        0        0        0  ...      736      750      766      773     782   \n",
       "2        0        0        0  ...     3517     3649     3848     4006    4154   \n",
       "3        0        0        0  ...      743      743      743      745     745   \n",
       "4        0        0        0  ...       27       27       27       27      30   \n",
       "\n",
       "   5/2/20  5/3/20  5/4/20  5/5/20  5/6/20  \n",
       "0    2469    2704    2894    3224    3392  \n",
       "1     789     795     803     820     832  \n",
       "2    4295    4474    4648    4838    4997  \n",
       "3     747     748     750     751     751  \n",
       "4      35      35      35      36      36  \n",
       "\n",
       "[5 rows x 110 columns]"
      ]
     },
     "execution_count": 74,
     "metadata": {},
     "output_type": "execute_result"
    }
   ],
   "source": [
    "raw_data[0].head()  # Confirmed."
   ]
  },
  {
   "cell_type": "code",
   "execution_count": 75,
   "metadata": {},
   "outputs": [
    {
     "data": {
      "text/html": [
       "<div>\n",
       "<style scoped>\n",
       "    .dataframe tbody tr th:only-of-type {\n",
       "        vertical-align: middle;\n",
       "    }\n",
       "\n",
       "    .dataframe tbody tr th {\n",
       "        vertical-align: top;\n",
       "    }\n",
       "\n",
       "    .dataframe thead th {\n",
       "        text-align: right;\n",
       "    }\n",
       "</style>\n",
       "<table border=\"1\" class=\"dataframe\">\n",
       "  <thead>\n",
       "    <tr style=\"text-align: right;\">\n",
       "      <th></th>\n",
       "      <th>Province/State</th>\n",
       "      <th>Country/Region</th>\n",
       "      <th>Lat</th>\n",
       "      <th>Long</th>\n",
       "      <th>1/22/20</th>\n",
       "      <th>1/23/20</th>\n",
       "      <th>1/24/20</th>\n",
       "      <th>1/25/20</th>\n",
       "      <th>1/26/20</th>\n",
       "      <th>1/27/20</th>\n",
       "      <th>...</th>\n",
       "      <th>4/27/20</th>\n",
       "      <th>4/28/20</th>\n",
       "      <th>4/29/20</th>\n",
       "      <th>4/30/20</th>\n",
       "      <th>5/1/20</th>\n",
       "      <th>5/2/20</th>\n",
       "      <th>5/3/20</th>\n",
       "      <th>5/4/20</th>\n",
       "      <th>5/5/20</th>\n",
       "      <th>5/6/20</th>\n",
       "    </tr>\n",
       "  </thead>\n",
       "  <tbody>\n",
       "    <tr>\n",
       "      <th>0</th>\n",
       "      <td>NaN</td>\n",
       "      <td>Afghanistan</td>\n",
       "      <td>33.0000</td>\n",
       "      <td>65.0000</td>\n",
       "      <td>0</td>\n",
       "      <td>0</td>\n",
       "      <td>0</td>\n",
       "      <td>0</td>\n",
       "      <td>0</td>\n",
       "      <td>0</td>\n",
       "      <td>...</td>\n",
       "      <td>57</td>\n",
       "      <td>58</td>\n",
       "      <td>60</td>\n",
       "      <td>64</td>\n",
       "      <td>68</td>\n",
       "      <td>72</td>\n",
       "      <td>85</td>\n",
       "      <td>90</td>\n",
       "      <td>95</td>\n",
       "      <td>104</td>\n",
       "    </tr>\n",
       "    <tr>\n",
       "      <th>1</th>\n",
       "      <td>NaN</td>\n",
       "      <td>Albania</td>\n",
       "      <td>41.1533</td>\n",
       "      <td>20.1683</td>\n",
       "      <td>0</td>\n",
       "      <td>0</td>\n",
       "      <td>0</td>\n",
       "      <td>0</td>\n",
       "      <td>0</td>\n",
       "      <td>0</td>\n",
       "      <td>...</td>\n",
       "      <td>28</td>\n",
       "      <td>30</td>\n",
       "      <td>30</td>\n",
       "      <td>31</td>\n",
       "      <td>31</td>\n",
       "      <td>31</td>\n",
       "      <td>31</td>\n",
       "      <td>31</td>\n",
       "      <td>31</td>\n",
       "      <td>31</td>\n",
       "    </tr>\n",
       "    <tr>\n",
       "      <th>2</th>\n",
       "      <td>NaN</td>\n",
       "      <td>Algeria</td>\n",
       "      <td>28.0339</td>\n",
       "      <td>1.6596</td>\n",
       "      <td>0</td>\n",
       "      <td>0</td>\n",
       "      <td>0</td>\n",
       "      <td>0</td>\n",
       "      <td>0</td>\n",
       "      <td>0</td>\n",
       "      <td>...</td>\n",
       "      <td>432</td>\n",
       "      <td>437</td>\n",
       "      <td>444</td>\n",
       "      <td>450</td>\n",
       "      <td>453</td>\n",
       "      <td>459</td>\n",
       "      <td>463</td>\n",
       "      <td>465</td>\n",
       "      <td>470</td>\n",
       "      <td>476</td>\n",
       "    </tr>\n",
       "    <tr>\n",
       "      <th>3</th>\n",
       "      <td>NaN</td>\n",
       "      <td>Andorra</td>\n",
       "      <td>42.5063</td>\n",
       "      <td>1.5218</td>\n",
       "      <td>0</td>\n",
       "      <td>0</td>\n",
       "      <td>0</td>\n",
       "      <td>0</td>\n",
       "      <td>0</td>\n",
       "      <td>0</td>\n",
       "      <td>...</td>\n",
       "      <td>40</td>\n",
       "      <td>41</td>\n",
       "      <td>42</td>\n",
       "      <td>42</td>\n",
       "      <td>43</td>\n",
       "      <td>44</td>\n",
       "      <td>45</td>\n",
       "      <td>45</td>\n",
       "      <td>46</td>\n",
       "      <td>46</td>\n",
       "    </tr>\n",
       "    <tr>\n",
       "      <th>4</th>\n",
       "      <td>NaN</td>\n",
       "      <td>Angola</td>\n",
       "      <td>-11.2027</td>\n",
       "      <td>17.8739</td>\n",
       "      <td>0</td>\n",
       "      <td>0</td>\n",
       "      <td>0</td>\n",
       "      <td>0</td>\n",
       "      <td>0</td>\n",
       "      <td>0</td>\n",
       "      <td>...</td>\n",
       "      <td>2</td>\n",
       "      <td>2</td>\n",
       "      <td>2</td>\n",
       "      <td>2</td>\n",
       "      <td>2</td>\n",
       "      <td>2</td>\n",
       "      <td>2</td>\n",
       "      <td>2</td>\n",
       "      <td>2</td>\n",
       "      <td>2</td>\n",
       "    </tr>\n",
       "  </tbody>\n",
       "</table>\n",
       "<p>5 rows × 110 columns</p>\n",
       "</div>"
      ],
      "text/plain": [
       "  Province/State Country/Region      Lat     Long  1/22/20  1/23/20  1/24/20  \\\n",
       "0            NaN    Afghanistan  33.0000  65.0000        0        0        0   \n",
       "1            NaN        Albania  41.1533  20.1683        0        0        0   \n",
       "2            NaN        Algeria  28.0339   1.6596        0        0        0   \n",
       "3            NaN        Andorra  42.5063   1.5218        0        0        0   \n",
       "4            NaN         Angola -11.2027  17.8739        0        0        0   \n",
       "\n",
       "   1/25/20  1/26/20  1/27/20  ...  4/27/20  4/28/20  4/29/20  4/30/20  5/1/20  \\\n",
       "0        0        0        0  ...       57       58       60       64      68   \n",
       "1        0        0        0  ...       28       30       30       31      31   \n",
       "2        0        0        0  ...      432      437      444      450     453   \n",
       "3        0        0        0  ...       40       41       42       42      43   \n",
       "4        0        0        0  ...        2        2        2        2       2   \n",
       "\n",
       "   5/2/20  5/3/20  5/4/20  5/5/20  5/6/20  \n",
       "0      72      85      90      95     104  \n",
       "1      31      31      31      31      31  \n",
       "2     459     463     465     470     476  \n",
       "3      44      45      45      46      46  \n",
       "4       2       2       2       2       2  \n",
       "\n",
       "[5 rows x 110 columns]"
      ]
     },
     "execution_count": 75,
     "metadata": {},
     "output_type": "execute_result"
    }
   ],
   "source": [
    "raw_data[1].head()  # Deceased."
   ]
  },
  {
   "cell_type": "code",
   "execution_count": 76,
   "metadata": {},
   "outputs": [
    {
     "data": {
      "text/html": [
       "<div>\n",
       "<style scoped>\n",
       "    .dataframe tbody tr th:only-of-type {\n",
       "        vertical-align: middle;\n",
       "    }\n",
       "\n",
       "    .dataframe tbody tr th {\n",
       "        vertical-align: top;\n",
       "    }\n",
       "\n",
       "    .dataframe thead th {\n",
       "        text-align: right;\n",
       "    }\n",
       "</style>\n",
       "<table border=\"1\" class=\"dataframe\">\n",
       "  <thead>\n",
       "    <tr style=\"text-align: right;\">\n",
       "      <th></th>\n",
       "      <th>Province/State</th>\n",
       "      <th>Country/Region</th>\n",
       "      <th>Lat</th>\n",
       "      <th>Long</th>\n",
       "      <th>1/22/20</th>\n",
       "      <th>1/23/20</th>\n",
       "      <th>1/24/20</th>\n",
       "      <th>1/25/20</th>\n",
       "      <th>1/26/20</th>\n",
       "      <th>1/27/20</th>\n",
       "      <th>...</th>\n",
       "      <th>4/27/20</th>\n",
       "      <th>4/28/20</th>\n",
       "      <th>4/29/20</th>\n",
       "      <th>4/30/20</th>\n",
       "      <th>5/1/20</th>\n",
       "      <th>5/2/20</th>\n",
       "      <th>5/3/20</th>\n",
       "      <th>5/4/20</th>\n",
       "      <th>5/5/20</th>\n",
       "      <th>5/6/20</th>\n",
       "    </tr>\n",
       "  </thead>\n",
       "  <tbody>\n",
       "    <tr>\n",
       "      <th>0</th>\n",
       "      <td>NaN</td>\n",
       "      <td>Afghanistan</td>\n",
       "      <td>33.0000</td>\n",
       "      <td>65.0000</td>\n",
       "      <td>0</td>\n",
       "      <td>0</td>\n",
       "      <td>0</td>\n",
       "      <td>0</td>\n",
       "      <td>0</td>\n",
       "      <td>0</td>\n",
       "      <td>...</td>\n",
       "      <td>220</td>\n",
       "      <td>228</td>\n",
       "      <td>252</td>\n",
       "      <td>260</td>\n",
       "      <td>310</td>\n",
       "      <td>331</td>\n",
       "      <td>345</td>\n",
       "      <td>397</td>\n",
       "      <td>421</td>\n",
       "      <td>458</td>\n",
       "    </tr>\n",
       "    <tr>\n",
       "      <th>1</th>\n",
       "      <td>NaN</td>\n",
       "      <td>Albania</td>\n",
       "      <td>41.1533</td>\n",
       "      <td>20.1683</td>\n",
       "      <td>0</td>\n",
       "      <td>0</td>\n",
       "      <td>0</td>\n",
       "      <td>0</td>\n",
       "      <td>0</td>\n",
       "      <td>0</td>\n",
       "      <td>...</td>\n",
       "      <td>422</td>\n",
       "      <td>431</td>\n",
       "      <td>455</td>\n",
       "      <td>470</td>\n",
       "      <td>488</td>\n",
       "      <td>519</td>\n",
       "      <td>531</td>\n",
       "      <td>543</td>\n",
       "      <td>570</td>\n",
       "      <td>595</td>\n",
       "    </tr>\n",
       "    <tr>\n",
       "      <th>2</th>\n",
       "      <td>NaN</td>\n",
       "      <td>Algeria</td>\n",
       "      <td>28.0339</td>\n",
       "      <td>1.6596</td>\n",
       "      <td>0</td>\n",
       "      <td>0</td>\n",
       "      <td>0</td>\n",
       "      <td>0</td>\n",
       "      <td>0</td>\n",
       "      <td>0</td>\n",
       "      <td>...</td>\n",
       "      <td>1558</td>\n",
       "      <td>1651</td>\n",
       "      <td>1702</td>\n",
       "      <td>1779</td>\n",
       "      <td>1821</td>\n",
       "      <td>1872</td>\n",
       "      <td>1936</td>\n",
       "      <td>1998</td>\n",
       "      <td>2067</td>\n",
       "      <td>2197</td>\n",
       "    </tr>\n",
       "    <tr>\n",
       "      <th>3</th>\n",
       "      <td>NaN</td>\n",
       "      <td>Andorra</td>\n",
       "      <td>42.5063</td>\n",
       "      <td>1.5218</td>\n",
       "      <td>0</td>\n",
       "      <td>0</td>\n",
       "      <td>0</td>\n",
       "      <td>0</td>\n",
       "      <td>0</td>\n",
       "      <td>0</td>\n",
       "      <td>...</td>\n",
       "      <td>385</td>\n",
       "      <td>398</td>\n",
       "      <td>423</td>\n",
       "      <td>468</td>\n",
       "      <td>468</td>\n",
       "      <td>472</td>\n",
       "      <td>493</td>\n",
       "      <td>499</td>\n",
       "      <td>514</td>\n",
       "      <td>521</td>\n",
       "    </tr>\n",
       "    <tr>\n",
       "      <th>4</th>\n",
       "      <td>NaN</td>\n",
       "      <td>Angola</td>\n",
       "      <td>-11.2027</td>\n",
       "      <td>17.8739</td>\n",
       "      <td>0</td>\n",
       "      <td>0</td>\n",
       "      <td>0</td>\n",
       "      <td>0</td>\n",
       "      <td>0</td>\n",
       "      <td>0</td>\n",
       "      <td>...</td>\n",
       "      <td>6</td>\n",
       "      <td>6</td>\n",
       "      <td>7</td>\n",
       "      <td>7</td>\n",
       "      <td>11</td>\n",
       "      <td>11</td>\n",
       "      <td>11</td>\n",
       "      <td>11</td>\n",
       "      <td>11</td>\n",
       "      <td>11</td>\n",
       "    </tr>\n",
       "  </tbody>\n",
       "</table>\n",
       "<p>5 rows × 110 columns</p>\n",
       "</div>"
      ],
      "text/plain": [
       "  Province/State Country/Region      Lat     Long  1/22/20  1/23/20  1/24/20  \\\n",
       "0            NaN    Afghanistan  33.0000  65.0000        0        0        0   \n",
       "1            NaN        Albania  41.1533  20.1683        0        0        0   \n",
       "2            NaN        Algeria  28.0339   1.6596        0        0        0   \n",
       "3            NaN        Andorra  42.5063   1.5218        0        0        0   \n",
       "4            NaN         Angola -11.2027  17.8739        0        0        0   \n",
       "\n",
       "   1/25/20  1/26/20  1/27/20  ...  4/27/20  4/28/20  4/29/20  4/30/20  5/1/20  \\\n",
       "0        0        0        0  ...      220      228      252      260     310   \n",
       "1        0        0        0  ...      422      431      455      470     488   \n",
       "2        0        0        0  ...     1558     1651     1702     1779    1821   \n",
       "3        0        0        0  ...      385      398      423      468     468   \n",
       "4        0        0        0  ...        6        6        7        7      11   \n",
       "\n",
       "   5/2/20  5/3/20  5/4/20  5/5/20  5/6/20  \n",
       "0     331     345     397     421     458  \n",
       "1     519     531     543     570     595  \n",
       "2    1872    1936    1998    2067    2197  \n",
       "3     472     493     499     514     521  \n",
       "4      11      11      11      11      11  \n",
       "\n",
       "[5 rows x 110 columns]"
      ]
     },
     "execution_count": 76,
     "metadata": {},
     "output_type": "execute_result"
    }
   ],
   "source": [
    "raw_data[2].head()  # Recovered."
   ]
  },
  {
   "cell_type": "markdown",
   "metadata": {},
   "source": [
    "It is also possible to view the data for a specific country."
   ]
  },
  {
   "cell_type": "code",
   "execution_count": 77,
   "metadata": {},
   "outputs": [
    {
     "data": {
      "text/html": [
       "<div>\n",
       "<style scoped>\n",
       "    .dataframe tbody tr th:only-of-type {\n",
       "        vertical-align: middle;\n",
       "    }\n",
       "\n",
       "    .dataframe tbody tr th {\n",
       "        vertical-align: top;\n",
       "    }\n",
       "\n",
       "    .dataframe thead th {\n",
       "        text-align: right;\n",
       "    }\n",
       "</style>\n",
       "<table border=\"1\" class=\"dataframe\">\n",
       "  <thead>\n",
       "    <tr style=\"text-align: right;\">\n",
       "      <th></th>\n",
       "      <th>Province/State</th>\n",
       "      <th>Country/Region</th>\n",
       "      <th>Lat</th>\n",
       "      <th>Long</th>\n",
       "      <th>1/22/20</th>\n",
       "      <th>1/23/20</th>\n",
       "      <th>1/24/20</th>\n",
       "      <th>1/25/20</th>\n",
       "      <th>1/26/20</th>\n",
       "      <th>1/27/20</th>\n",
       "      <th>...</th>\n",
       "      <th>4/27/20</th>\n",
       "      <th>4/28/20</th>\n",
       "      <th>4/29/20</th>\n",
       "      <th>4/30/20</th>\n",
       "      <th>5/1/20</th>\n",
       "      <th>5/2/20</th>\n",
       "      <th>5/3/20</th>\n",
       "      <th>5/4/20</th>\n",
       "      <th>5/5/20</th>\n",
       "      <th>5/6/20</th>\n",
       "    </tr>\n",
       "  </thead>\n",
       "  <tbody>\n",
       "    <tr>\n",
       "      <th>217</th>\n",
       "      <td>Bermuda</td>\n",
       "      <td>United Kingdom</td>\n",
       "      <td>32.3078</td>\n",
       "      <td>-64.7505</td>\n",
       "      <td>0</td>\n",
       "      <td>0</td>\n",
       "      <td>0</td>\n",
       "      <td>0</td>\n",
       "      <td>0</td>\n",
       "      <td>0</td>\n",
       "      <td>...</td>\n",
       "      <td>110</td>\n",
       "      <td>110</td>\n",
       "      <td>111</td>\n",
       "      <td>114</td>\n",
       "      <td>114</td>\n",
       "      <td>114</td>\n",
       "      <td>115</td>\n",
       "      <td>115</td>\n",
       "      <td>115</td>\n",
       "      <td>118</td>\n",
       "    </tr>\n",
       "    <tr>\n",
       "      <th>218</th>\n",
       "      <td>Cayman Islands</td>\n",
       "      <td>United Kingdom</td>\n",
       "      <td>19.3133</td>\n",
       "      <td>-81.2546</td>\n",
       "      <td>0</td>\n",
       "      <td>0</td>\n",
       "      <td>0</td>\n",
       "      <td>0</td>\n",
       "      <td>0</td>\n",
       "      <td>0</td>\n",
       "      <td>...</td>\n",
       "      <td>70</td>\n",
       "      <td>70</td>\n",
       "      <td>73</td>\n",
       "      <td>73</td>\n",
       "      <td>74</td>\n",
       "      <td>74</td>\n",
       "      <td>74</td>\n",
       "      <td>75</td>\n",
       "      <td>78</td>\n",
       "      <td>78</td>\n",
       "    </tr>\n",
       "    <tr>\n",
       "      <th>219</th>\n",
       "      <td>Channel Islands</td>\n",
       "      <td>United Kingdom</td>\n",
       "      <td>49.3723</td>\n",
       "      <td>-2.3644</td>\n",
       "      <td>0</td>\n",
       "      <td>0</td>\n",
       "      <td>0</td>\n",
       "      <td>0</td>\n",
       "      <td>0</td>\n",
       "      <td>0</td>\n",
       "      <td>...</td>\n",
       "      <td>525</td>\n",
       "      <td>530</td>\n",
       "      <td>537</td>\n",
       "      <td>537</td>\n",
       "      <td>538</td>\n",
       "      <td>543</td>\n",
       "      <td>544</td>\n",
       "      <td>544</td>\n",
       "      <td>545</td>\n",
       "      <td>545</td>\n",
       "    </tr>\n",
       "    <tr>\n",
       "      <th>220</th>\n",
       "      <td>Gibraltar</td>\n",
       "      <td>United Kingdom</td>\n",
       "      <td>36.1408</td>\n",
       "      <td>-5.3536</td>\n",
       "      <td>0</td>\n",
       "      <td>0</td>\n",
       "      <td>0</td>\n",
       "      <td>0</td>\n",
       "      <td>0</td>\n",
       "      <td>0</td>\n",
       "      <td>...</td>\n",
       "      <td>141</td>\n",
       "      <td>141</td>\n",
       "      <td>141</td>\n",
       "      <td>144</td>\n",
       "      <td>144</td>\n",
       "      <td>144</td>\n",
       "      <td>144</td>\n",
       "      <td>144</td>\n",
       "      <td>144</td>\n",
       "      <td>144</td>\n",
       "    </tr>\n",
       "    <tr>\n",
       "      <th>221</th>\n",
       "      <td>Isle of Man</td>\n",
       "      <td>United Kingdom</td>\n",
       "      <td>54.2361</td>\n",
       "      <td>-4.5481</td>\n",
       "      <td>0</td>\n",
       "      <td>0</td>\n",
       "      <td>0</td>\n",
       "      <td>0</td>\n",
       "      <td>0</td>\n",
       "      <td>0</td>\n",
       "      <td>...</td>\n",
       "      <td>308</td>\n",
       "      <td>309</td>\n",
       "      <td>313</td>\n",
       "      <td>315</td>\n",
       "      <td>316</td>\n",
       "      <td>320</td>\n",
       "      <td>321</td>\n",
       "      <td>325</td>\n",
       "      <td>326</td>\n",
       "      <td>327</td>\n",
       "    </tr>\n",
       "    <tr>\n",
       "      <th>222</th>\n",
       "      <td>Montserrat</td>\n",
       "      <td>United Kingdom</td>\n",
       "      <td>16.7425</td>\n",
       "      <td>-62.1874</td>\n",
       "      <td>0</td>\n",
       "      <td>0</td>\n",
       "      <td>0</td>\n",
       "      <td>0</td>\n",
       "      <td>0</td>\n",
       "      <td>0</td>\n",
       "      <td>...</td>\n",
       "      <td>11</td>\n",
       "      <td>11</td>\n",
       "      <td>11</td>\n",
       "      <td>11</td>\n",
       "      <td>11</td>\n",
       "      <td>11</td>\n",
       "      <td>11</td>\n",
       "      <td>11</td>\n",
       "      <td>11</td>\n",
       "      <td>11</td>\n",
       "    </tr>\n",
       "    <tr>\n",
       "      <th>223</th>\n",
       "      <td>NaN</td>\n",
       "      <td>United Kingdom</td>\n",
       "      <td>55.3781</td>\n",
       "      <td>-3.4360</td>\n",
       "      <td>0</td>\n",
       "      <td>0</td>\n",
       "      <td>0</td>\n",
       "      <td>0</td>\n",
       "      <td>0</td>\n",
       "      <td>0</td>\n",
       "      <td>...</td>\n",
       "      <td>157149</td>\n",
       "      <td>161145</td>\n",
       "      <td>165221</td>\n",
       "      <td>171253</td>\n",
       "      <td>177454</td>\n",
       "      <td>182260</td>\n",
       "      <td>186599</td>\n",
       "      <td>190584</td>\n",
       "      <td>194990</td>\n",
       "      <td>201101</td>\n",
       "    </tr>\n",
       "    <tr>\n",
       "      <th>249</th>\n",
       "      <td>Anguilla</td>\n",
       "      <td>United Kingdom</td>\n",
       "      <td>18.2206</td>\n",
       "      <td>-63.0686</td>\n",
       "      <td>0</td>\n",
       "      <td>0</td>\n",
       "      <td>0</td>\n",
       "      <td>0</td>\n",
       "      <td>0</td>\n",
       "      <td>0</td>\n",
       "      <td>...</td>\n",
       "      <td>3</td>\n",
       "      <td>3</td>\n",
       "      <td>3</td>\n",
       "      <td>3</td>\n",
       "      <td>3</td>\n",
       "      <td>3</td>\n",
       "      <td>3</td>\n",
       "      <td>3</td>\n",
       "      <td>3</td>\n",
       "      <td>3</td>\n",
       "    </tr>\n",
       "    <tr>\n",
       "      <th>250</th>\n",
       "      <td>British Virgin Islands</td>\n",
       "      <td>United Kingdom</td>\n",
       "      <td>18.4207</td>\n",
       "      <td>-64.6400</td>\n",
       "      <td>0</td>\n",
       "      <td>0</td>\n",
       "      <td>0</td>\n",
       "      <td>0</td>\n",
       "      <td>0</td>\n",
       "      <td>0</td>\n",
       "      <td>...</td>\n",
       "      <td>6</td>\n",
       "      <td>6</td>\n",
       "      <td>6</td>\n",
       "      <td>6</td>\n",
       "      <td>6</td>\n",
       "      <td>6</td>\n",
       "      <td>6</td>\n",
       "      <td>6</td>\n",
       "      <td>6</td>\n",
       "      <td>7</td>\n",
       "    </tr>\n",
       "    <tr>\n",
       "      <th>251</th>\n",
       "      <td>Turks and Caicos Islands</td>\n",
       "      <td>United Kingdom</td>\n",
       "      <td>21.6940</td>\n",
       "      <td>-71.7979</td>\n",
       "      <td>0</td>\n",
       "      <td>0</td>\n",
       "      <td>0</td>\n",
       "      <td>0</td>\n",
       "      <td>0</td>\n",
       "      <td>0</td>\n",
       "      <td>...</td>\n",
       "      <td>12</td>\n",
       "      <td>12</td>\n",
       "      <td>12</td>\n",
       "      <td>12</td>\n",
       "      <td>12</td>\n",
       "      <td>12</td>\n",
       "      <td>12</td>\n",
       "      <td>12</td>\n",
       "      <td>12</td>\n",
       "      <td>12</td>\n",
       "    </tr>\n",
       "    <tr>\n",
       "      <th>258</th>\n",
       "      <td>Falkland Islands (Malvinas)</td>\n",
       "      <td>United Kingdom</td>\n",
       "      <td>-51.7963</td>\n",
       "      <td>-59.5236</td>\n",
       "      <td>0</td>\n",
       "      <td>0</td>\n",
       "      <td>0</td>\n",
       "      <td>0</td>\n",
       "      <td>0</td>\n",
       "      <td>0</td>\n",
       "      <td>...</td>\n",
       "      <td>13</td>\n",
       "      <td>13</td>\n",
       "      <td>13</td>\n",
       "      <td>13</td>\n",
       "      <td>13</td>\n",
       "      <td>13</td>\n",
       "      <td>13</td>\n",
       "      <td>13</td>\n",
       "      <td>13</td>\n",
       "      <td>13</td>\n",
       "    </tr>\n",
       "  </tbody>\n",
       "</table>\n",
       "<p>11 rows × 110 columns</p>\n",
       "</div>"
      ],
      "text/plain": [
       "                  Province/State  Country/Region      Lat     Long  1/22/20  \\\n",
       "217                      Bermuda  United Kingdom  32.3078 -64.7505        0   \n",
       "218               Cayman Islands  United Kingdom  19.3133 -81.2546        0   \n",
       "219              Channel Islands  United Kingdom  49.3723  -2.3644        0   \n",
       "220                    Gibraltar  United Kingdom  36.1408  -5.3536        0   \n",
       "221                  Isle of Man  United Kingdom  54.2361  -4.5481        0   \n",
       "222                   Montserrat  United Kingdom  16.7425 -62.1874        0   \n",
       "223                          NaN  United Kingdom  55.3781  -3.4360        0   \n",
       "249                     Anguilla  United Kingdom  18.2206 -63.0686        0   \n",
       "250       British Virgin Islands  United Kingdom  18.4207 -64.6400        0   \n",
       "251     Turks and Caicos Islands  United Kingdom  21.6940 -71.7979        0   \n",
       "258  Falkland Islands (Malvinas)  United Kingdom -51.7963 -59.5236        0   \n",
       "\n",
       "     1/23/20  1/24/20  1/25/20  1/26/20  1/27/20  ...  4/27/20  4/28/20  \\\n",
       "217        0        0        0        0        0  ...      110      110   \n",
       "218        0        0        0        0        0  ...       70       70   \n",
       "219        0        0        0        0        0  ...      525      530   \n",
       "220        0        0        0        0        0  ...      141      141   \n",
       "221        0        0        0        0        0  ...      308      309   \n",
       "222        0        0        0        0        0  ...       11       11   \n",
       "223        0        0        0        0        0  ...   157149   161145   \n",
       "249        0        0        0        0        0  ...        3        3   \n",
       "250        0        0        0        0        0  ...        6        6   \n",
       "251        0        0        0        0        0  ...       12       12   \n",
       "258        0        0        0        0        0  ...       13       13   \n",
       "\n",
       "     4/29/20  4/30/20  5/1/20  5/2/20  5/3/20  5/4/20  5/5/20  5/6/20  \n",
       "217      111      114     114     114     115     115     115     118  \n",
       "218       73       73      74      74      74      75      78      78  \n",
       "219      537      537     538     543     544     544     545     545  \n",
       "220      141      144     144     144     144     144     144     144  \n",
       "221      313      315     316     320     321     325     326     327  \n",
       "222       11       11      11      11      11      11      11      11  \n",
       "223   165221   171253  177454  182260  186599  190584  194990  201101  \n",
       "249        3        3       3       3       3       3       3       3  \n",
       "250        6        6       6       6       6       6       6       7  \n",
       "251       12       12      12      12      12      12      12      12  \n",
       "258       13       13      13      13      13      13      13      13  \n",
       "\n",
       "[11 rows x 110 columns]"
      ]
     },
     "execution_count": 77,
     "metadata": {},
     "output_type": "execute_result"
    }
   ],
   "source": [
    "raw_data[0][raw_data[0]['Country/Region'].isin(['United Kingdom'])]  # Total confirmed cases in the UK."
   ]
  },
  {
   "cell_type": "markdown",
   "metadata": {},
   "source": [
    "The following formula can be used to find the number of current infected as oposed to total infected (confirmed cases):<br>\n",
    "current infected = total infected - (deceased + recovered)"
   ]
  },
  {
   "cell_type": "code",
   "execution_count": 78,
   "metadata": {},
   "outputs": [],
   "source": [
    "current_infected = data_handler.calculate_current_infected(raw_data)"
   ]
  },
  {
   "cell_type": "markdown",
   "metadata": {},
   "source": [
    "Plotting the data hepls to visualise it better. But first all rows must be summed up into one time series."
   ]
  },
  {
   "cell_type": "code",
   "execution_count": 79,
   "metadata": {},
   "outputs": [],
   "source": [
    "confirmed = raw_data[0].sum()[2:]  # The first two rows are the sums of Long and Lat which must be removed.\n",
    "deceased = raw_data[1].sum()[2:]\n",
    "recovered = raw_data[2].sum()[2:]"
   ]
  },
  {
   "cell_type": "code",
   "execution_count": 80,
   "metadata": {},
   "outputs": [
    {
     "data": {
      "image/png": "[encoded data removed]",
      "text/plain": [
       "<Figure size 720x360 with 1 Axes>"
      ]
     },
     "metadata": {
      "needs_background": "light"
     },
     "output_type": "display_data"
    }
   ],
   "source": [
    "plot_data([confirmed, current_infected, recovered, deceased], 'COVID-19 data', ['Total confirmed', 'Current infected',\n",
    "    'Recovered', 'Deceased'], 'People', 'Time')"
   ]
  },
  {
   "cell_type": "markdown",
   "metadata": {},
   "source": [
    "# 2. Objectives <a name=\"obj\"></a>"
   ]
  },
  {
   "cell_type": "markdown",
   "metadata": {},
   "source": [
    "The Kaggle competition requires two forecasts to be made, the number of infected people and the number of deceased people.<br>\n",
    "There are two more objectives proposed in this notebook. One, how well do the machine learning models perform when compared with<br>\n",
    "eachother? Two, how good is the LSTM at generalizing the problem of forecasting the COVID-19?"
   ]
  },
  {
   "cell_type": "markdown",
   "metadata": {},
   "source": [
    "## 2.1 The Kaggle compettition <a name=\"obj_kaggle\"></a>"
   ]
  },
  {
   "cell_type": "markdown",
   "metadata": {},
   "source": [
    "Now that the data has been explained, it is possible to use any time series forecasting method on it. In this notebook the<br>\n",
    "selected methods where the LSTM and GRU."
   ]
  },
  {
   "cell_type": "markdown",
   "metadata": {},
   "source": [
    "## 2.3 How well can the LSTM model COVID-19? <a name=\"obj_gener\"></a>"
   ]
  },
  {
   "cell_type": "markdown",
   "metadata": {},
   "source": [
    "To prove that the LSTM has actualy learnt from the data it is necessary to create forecasts on unseen data. A testing<br>\n",
    "set is usualy separated from the data before using the rest to train a neural network. But how well can the network model the<br>\n",
    "virus? This can be verified by using the same model trained on the global data and using it to make predictions on individual<br>\n",
    "countries. Technicaly the global data contains all the information present in each individual country. This will demonstrate if<br>\n",
    "the model has actualy learnt how the number of inferted people change over time."
   ]
  },
  {
   "cell_type": "markdown",
   "metadata": {},
   "source": [
    "The following code prepares the data for a plot demonstrating the above pagraph."
   ]
  },
  {
   "cell_type": "code",
   "execution_count": 81,
   "metadata": {},
   "outputs": [],
   "source": [
    "def get_country_data(country):\n",
    "    data = []\n",
    "    # Total confirmed cases in the country.\n",
    "    data.append(raw_data[0][raw_data[0]['Country/Region'].isin([country])])\n",
    "    # Total deceased cases in the country.\n",
    "    data.append(raw_data[1][raw_data[1]['Country/Region'].isin([country])])\n",
    "    # Total recovered cases in the country.\n",
    "    data.append(raw_data[2][raw_data[2]['Country/Region'].isin([country])])\n",
    "    # Make the deceased table into a time series.\n",
    "    deceased = data[1].sum(numeric_only=True)[2:]\n",
    "    # Calculate time series of infected people.\n",
    "    infected = data_handler.calculate_current_infected(data)\n",
    "    return deceased, infected"
   ]
  },
  {
   "cell_type": "code",
   "execution_count": 82,
   "metadata": {},
   "outputs": [],
   "source": [
    "uk_deceased, uk_infected = get_country_data('United Kingdom')\n",
    "# Split UK infected.\n",
    "uk_inf_train, uk_inf_test = data_handler.split_train_test(uk_infected, 0.7)\n",
    "# Split UK deceased.\n",
    "uk_dec_train, uk_dec_test = data_handler.split_train_test(uk_deceased, 0.7)\n",
    "# Split global infected.\n",
    "global_inf_train, global_inf_test = data_handler.split_train_test(current_infected, 0.7)"
   ]
  },
  {
   "cell_type": "code",
   "execution_count": 83,
   "metadata": {},
   "outputs": [
    {
     "data": {
      "image/png": "[encoded data removed]",
      "text/plain": [
       "<Figure size 720x360 with 1 Axes>"
      ]
     },
     "metadata": {
      "needs_background": "light"
     },
     "output_type": "display_data"
    }
   ],
   "source": [
    "plot_data([global_inf_train, global_inf_test, uk_inf_test, uk_dec_test], 'Global train and test data with UK data', ['Global infected (train data)', 'Global infected (test data)', 'UK infected (test data)', 'UK deceased (test data)'], 'Time', 'People')"
   ]
  },
  {
   "cell_type": "markdown",
   "metadata": {},
   "source": [
    "Is a model trined on the global infected (blue line) capable of creating accurate forecasts for the UK data? A comparisson<br>\n",
    "between a models trained on the global infected data and a model designed for this compettition was made in Chapter X."
   ]
  },
  {
   "cell_type": "markdown",
   "metadata": {},
   "source": [
    "## 2.4 How does the LSTM perform when compared with other models? <a name=\"obj_comp\"></a>"
   ]
  },
  {
   "cell_type": "markdown",
   "metadata": {},
   "source": [
    "RMSE, allong with the RMSLE, was used to compare the performance for the models. Plots were also used to show how the selected<br>\n",
    "models perform on the data. MASE was used to calculate the accuracy of forecasts. As this uses percentages it is possible to<br>\n",
    "compare different methods quite well.<br>\n",
    "The three loss functions used to compare the models performance are:"
   ]
  },
  {
   "cell_type": "markdown",
   "metadata": {},
   "source": [
    "### 2.4.1 Root Mean Squared Error (RMSE):<br>\n",
    "Calculates the average error in the forecasts. Values calculated by this function represent the number of people the forecast<br>\n",
    "got wrong."
   ]
  },
  {
   "cell_type": "markdown",
   "metadata": {},
   "source": [
    "$ RMSE = \\sqrt{\\frac{1}{n}\\sum_{i=1}^{n}(p_i-r_i)^2} $<br>\n",
    "Where *p* is the predicted value, *r* is the real value and *n* is the number of data."
   ]
  },
  {
   "cell_type": "code",
   "execution_count": 84,
   "metadata": {},
   "outputs": [],
   "source": [
    "def rmse(prediction, target):\n",
    "    return np.sqrt(((prediction - target) ** 2).mean())"
   ]
  },
  {
   "cell_type": "markdown",
   "metadata": {},
   "source": [
    "### 2.4.2 Root Mean Squared Log Error (RMSLE):<br>\n",
    "Other than being chosen by Kaggle, this loss function penalises predictions smaller than the real value. So, according to this<br>\n",
    "function, overestimating the number of infected people is better than underestimating it."
   ]
  },
  {
   "cell_type": "markdown",
   "metadata": {},
   "source": [
    "$ RMSLE = \\sqrt{\\frac{1}{n}\\sum_{i=1}^{n}(\\ln(p_i+1)-\\ln(r_i+1))^2} $<br>\n",
    "Where *p* is the predicted value, *r* is the real value and *n* is the number of data."
   ]
  },
  {
   "cell_type": "code",
   "execution_count": 85,
   "metadata": {},
   "outputs": [],
   "source": [
    "def rmsle(prediction, target):\n",
    "    return np.sqrt(((np.log(prediction+1) - np.log(target+1)) ** 2).mean())"
   ]
  },
  {
   "cell_type": "markdown",
   "metadata": {},
   "source": [
    "### 2.4.3 Mean Absolure Scaled Error (MASE):<br>\n",
    "This represents the forecast error as a ratio. This is usefull as it allows forecasts on different scales to be compared."
   ]
  },
  {
   "cell_type": "markdown",
   "metadata": {},
   "source": [
    "$ MASE = \\frac{\\frac{1}{J}\\sum_{j}|p_i-r_i|}{\\frac{1}{T-1}\\sum_{t=2}^{T}|r_t-r_{t-1}|}  $<br>\n",
    "Where *p* is the predicted value, *r* is the real value , *T* is the size of the training set, *J* is the number of forecats."
   ]
  },
  {
   "cell_type": "code",
   "execution_count": 86,
   "metadata": {},
   "outputs": [],
   "source": [
    "def mase(prediction, target, train_size):\n",
    "    mean_error = (abs(prediction - target)).mean()\n",
    "    scaling_factor = (1/(train_size-1)) * target.diff().abs().sum()\n",
    "    return float(mean_error / scaling_factor)"
   ]
  },
  {
   "cell_type": "markdown",
   "metadata": {},
   "source": [
    "# 3. Time series analysis <a name=\"time\"></a>"
   ]
  },
  {
   "cell_type": "markdown",
   "metadata": {},
   "source": [
    "In this chapter an analysis of the time series was performed. This analysis will highlight features in the data which cause the<br>\n",
    "time series to have trends. A time series with a trend is called non-stationary because the mean (average) changes over time.<br>\n",
    "Once these trends are found they can be removed from the data making it a stationary time series."
   ]
  },
  {
   "cell_type": "markdown",
   "metadata": {},
   "source": [
    "## 3.1 Why stationary? <a name=\"time_station\"></a>"
   ]
  },
  {
   "cell_type": "markdown",
   "metadata": {},
   "source": [
    "To create accurate forecasts the time series must be stationary simplly because it is easier to model data without any trends.<br>\n",
    "There are two statistical tests that can be applied to a time series to check whether it is stationary or not. This is better<br>\n",
    "than simply 'looking' at the data as it can find (and prove the existence of) useful features in the series."
   ]
  },
  {
   "cell_type": "markdown",
   "metadata": {},
   "source": [
    "The plot of the current infected shows a clear trend in the data."
   ]
  },
  {
   "cell_type": "code",
   "execution_count": 87,
   "metadata": {},
   "outputs": [
    {
     "data": {
      "image/png": "[encoded data removed]",
      "text/plain": [
       "<Figure size 720x360 with 1 Axes>"
      ]
     },
     "metadata": {
      "needs_background": "light"
     },
     "output_type": "display_data"
    }
   ],
   "source": [
    "plot_data([current_infected], 'Global infections of COVID-19', ['Current infected'], 'Time', 'People')"
   ]
  },
  {
   "cell_type": "markdown",
   "metadata": {},
   "source": [
    "## 3.2 ADF and KPSS tests <a name=\"time_tests\"></a>"
   ]
  },
  {
   "cell_type": "markdown",
   "metadata": {},
   "source": [
    "These functions help print out the results from the following tests."
   ]
  },
  {
   "cell_type": "code",
   "execution_count": 88,
   "metadata": {},
   "outputs": [],
   "source": [
    "def print_results(res, index, row_names):\n",
    "    formatted_res = pd.Series(res[0:index], index=row_names)\n",
    "    for key, value in res[index].items():\n",
    "        formatted_res[f'Critical Value ({key})'] = value\n",
    "    print(formatted_res)"
   ]
  },
  {
   "cell_type": "code",
   "execution_count": 89,
   "metadata": {},
   "outputs": [],
   "source": [
    "def print_adf(results):\n",
    "    print(\"Results for the ADF test:\")\n",
    "    print_results(results, 4, ['Test Statistic', 'p-value', 'Lags Used', 'Number of Observations Used'])"
   ]
  },
  {
   "cell_type": "markdown",
   "metadata": {},
   "source": [
    "### 3.2.1 The Augmented Dickey Fuller (ADF) test."
   ]
  },
  {
   "cell_type": "markdown",
   "metadata": {},
   "source": [
    "* The null hypothesis for the ADF test is that the time series is not stationary because it has a unit root.<br>\n",
    "* The alternate hypothesis is that there is no unit root in the data making it stationary.<br>\n",
    "* The unit root is a feature in a time  series that causes a trend. This can be removed by differencing the data.<br>\n",
    "* The null hypothesis is assumed to be true until it is proven to be false, i.e. it is assumed that the data is not stationary by default.<br>\n",
    "* To reject the null hypothesis (prove there is no trend) the p-value produced by the test must be less than the Critical Value.<br>\n",
    "* The Critical Value represents how certain the test is of its results, e.g. if the p-value is lest than 0.05 (5%) then we can say that the test is 95% confident that the time series is stationary."
   ]
  },
  {
   "cell_type": "code",
   "execution_count": 90,
   "metadata": {},
   "outputs": [
    {
     "name": "stdout",
     "output_type": "stream",
     "text": [
      "Results for the ADF test:\n",
      "Test Statistic                  2.547671\n",
      "p-value                         0.999064\n",
      "Lags Used                      12.000000\n",
      "Number of Observations Used    93.000000\n",
      "Critical Value (1%)            -3.502705\n",
      "Critical Value (5%)            -2.893158\n",
      "Critical Value (10%)           -2.583637\n",
      "dtype: float64\n"
     ]
    }
   ],
   "source": [
    "adf_results = adfuller(current_infected)\n",
    "print_adf(adf_results)"
   ]
  },
  {
   "cell_type": "markdown",
   "metadata": {},
   "source": [
    "As the p-value is larger than all levels of alpha (0.01, 0.05 and 0.1) this means that the time series has a unit root. In fact<br>\n",
    "it is possible to multiply the p-value by 100 to see how confident the test is. For example a p-value of 0.973938 means that the<br>\n",
    "test is 97% confident that the is a unit root (trend) in the data."
   ]
  },
  {
   "cell_type": "markdown",
   "metadata": {},
   "source": [
    "### 3.2.2 The Kwiatkowski-Phillips-Schmidt-Shin (KPSS) test."
   ]
  },
  {
   "cell_type": "markdown",
   "metadata": {},
   "source": [
    "* The KPSS test complements the ADF test.<br>\n",
    "* Its null hypothesis states that the time series is stationary.<br>\n",
    "* While there alternate hypothesis states that the data has a unit root.<br>\n",
    "* The p-value and the Critical Values work the same ass the ADF test.<br>\n",
    "* However, if the null hypothesis is not rejected, the KPSS shows that the data is 'trend' stationary. This means that it is stationary around a deterministic trend.<br>\n",
    "* For example, a linear trend is present where all values increase over time. If this trend is removed the data will become stationary."
   ]
  },
  {
   "cell_type": "code",
   "execution_count": 91,
   "metadata": {},
   "outputs": [
    {
     "name": "stdout",
     "output_type": "stream",
     "text": [
      "Results for the KPSS test:\n",
      "Test Statistic           1.349822\n",
      "p-value                  0.010000\n",
      "Lags Used                6.000000\n",
      "Critical Value (10%)     0.347000\n",
      "Critical Value (5%)      0.463000\n",
      "Critical Value (2.5%)    0.574000\n",
      "Critical Value (1%)      0.739000\n",
      "dtype: float64\n"
     ]
    },
    {
     "name": "stderr",
     "output_type": "stream",
     "text": [
      "/home/marcus/.local/lib/python3.6/site-packages/statsmodels/tsa/stattools.py:1685: InterpolationWarning: p-value is smaller than the indicated p-value\n",
      "  warn(\"p-value is smaller than the indicated p-value\", InterpolationWarning)\n"
     ]
    }
   ],
   "source": [
    "kpss_results = kpss(current_infected, nlags='auto')\n",
    "print(\"Results for the KPSS test:\")\n",
    "print_results(kpss_results, 3, ['Test Statistic', 'p-value', 'Lags Used'])"
   ]
  },
  {
   "cell_type": "markdown",
   "metadata": {},
   "source": [
    "The results show that the null hypothesis is rejected, this means that the unit root is definitely present and that there is no deterministic trend."
   ]
  },
  {
   "cell_type": "markdown",
   "metadata": {},
   "source": [
    "Note: the results will be different every time more data is added to the series."
   ]
  },
  {
   "cell_type": "markdown",
   "metadata": {},
   "source": [
    "## 3.4 Making the time series stationary <a name=\"time_transf\"></a>"
   ]
  },
  {
   "cell_type": "markdown",
   "metadata": {},
   "source": [
    "The tests show there is at least one unit root in the data. This can be removed by differencing the data. As there is no<br>\n",
    "deterministic trend in the data there is no need to use the KPSS test again. Another important factor is the range the data is<br>\n",
    "in. If the neural network is given large numbers to process, e.g. between 10000 and 50000, it will take too long to train it.<br>\n",
    "This range must be 'squashed' into a more  manageable range. However, the method used to transform the data must make it fit in<br>\n",
    "a Gaussian curve as it makes data data easier to forecast."
   ]
  },
  {
   "cell_type": "markdown",
   "metadata": {},
   "source": [
    "### 3.4.1 Differencing <a name=\"time_transf_diff\"></a>"
   ]
  },
  {
   "cell_type": "markdown",
   "metadata": {},
   "source": [
    "Differencing takes the difference between each point in the data. The result of this is a series showing the change in the data.<br>\n",
    "Example: The fist row shows the number of infected people while the second (differenced) row shows the change in infected<br>\n",
    "people. This proces removes the unit root from the data and can be repeated as many times as necessary."
   ]
  },
  {
   "cell_type": "code",
   "execution_count": 92,
   "metadata": {},
   "outputs": [
    {
     "data": {
      "text/html": [
       "<div>\n",
       "<style scoped>\n",
       "    .dataframe tbody tr th:only-of-type {\n",
       "        vertical-align: middle;\n",
       "    }\n",
       "\n",
       "    .dataframe tbody tr th {\n",
       "        vertical-align: top;\n",
       "    }\n",
       "\n",
       "    .dataframe thead th {\n",
       "        text-align: right;\n",
       "    }\n",
       "</style>\n",
       "<table border=\"1\" class=\"dataframe\">\n",
       "  <thead>\n",
       "    <tr style=\"text-align: right;\">\n",
       "      <th></th>\n",
       "      <th>1/22/20</th>\n",
       "      <th>1/23/20</th>\n",
       "      <th>1/24/20</th>\n",
       "      <th>1/25/20</th>\n",
       "      <th>1/26/20</th>\n",
       "    </tr>\n",
       "  </thead>\n",
       "  <tbody>\n",
       "    <tr>\n",
       "      <th>Original</th>\n",
       "      <td>510.0</td>\n",
       "      <td>606.0</td>\n",
       "      <td>879.0</td>\n",
       "      <td>1353.0</td>\n",
       "      <td>2010.0</td>\n",
       "    </tr>\n",
       "    <tr>\n",
       "      <th>Differenced</th>\n",
       "      <td>NaN</td>\n",
       "      <td>96.0</td>\n",
       "      <td>273.0</td>\n",
       "      <td>474.0</td>\n",
       "      <td>657.0</td>\n",
       "    </tr>\n",
       "  </tbody>\n",
       "</table>\n",
       "</div>"
      ],
      "text/plain": [
       "             1/22/20  1/23/20  1/24/20  1/25/20  1/26/20\n",
       "Original       510.0    606.0    879.0   1353.0   2010.0\n",
       "Differenced      NaN     96.0    273.0    474.0    657.0"
      ]
     },
     "execution_count": 92,
     "metadata": {},
     "output_type": "execute_result"
    }
   ],
   "source": [
    "orig = current_infected.head()\n",
    "orig.columns = ['Original']\n",
    "diff = current_infected.head().diff()\n",
    "diff.columns = ['Differenced']\n",
    "pd.concat([orig.T, diff.T])"
   ]
  },
  {
   "cell_type": "markdown",
   "metadata": {},
   "source": [
    "It is important to note that every time the data is differenced some level of detail is lost. This can be verified by the NaN<br>\n",
    "value in the second row."
   ]
  },
  {
   "cell_type": "markdown",
   "metadata": {},
   "source": [
    "Now that differencing has been explained it can be applied on the full dataset. The graph now shows the global rate of<br>\n",
    "infection."
   ]
  },
  {
   "cell_type": "code",
   "execution_count": 93,
   "metadata": {},
   "outputs": [
    {
     "data": {
      "image/png": "[encoded data removed]",
      "text/plain": [
       "<Figure size 720x360 with 1 Axes>"
      ]
     },
     "metadata": {
      "needs_background": "light"
     },
     "output_type": "display_data"
    }
   ],
   "source": [
    "first_differenced = current_infected.diff().dropna()\n",
    "plot_data([first_differenced], 'Global rate of infection', ['First difference'], 'Time', 'People')"
   ]
  },
  {
   "cell_type": "markdown",
   "metadata": {},
   "source": [
    "Another ADF test on the differenced data shows that there is still a unit root in the data. This means that the data must be differenced again."
   ]
  },
  {
   "cell_type": "code",
   "execution_count": 94,
   "metadata": {},
   "outputs": [
    {
     "name": "stdout",
     "output_type": "stream",
     "text": [
      "Results for the ADF test:\n",
      "Test Statistic                 -1.814905\n",
      "p-value                         0.373087\n",
      "Lags Used                      11.000000\n",
      "Number of Observations Used    93.000000\n",
      "Critical Value (1%)            -3.502705\n",
      "Critical Value (5%)            -2.893158\n",
      "Critical Value (10%)           -2.583637\n",
      "dtype: float64\n"
     ]
    }
   ],
   "source": [
    "adf_results = adfuller(first_differenced)\n",
    "print_adf(adf_results)"
   ]
  },
  {
   "cell_type": "markdown",
   "metadata": {},
   "source": [
    "Differencing the data a second time shows us that even though the graph looks like a stationary time series there still is an unit root in the data as the p-value is greater than all alpha values."
   ]
  },
  {
   "cell_type": "code",
   "execution_count": 95,
   "metadata": {},
   "outputs": [
    {
     "name": "stdout",
     "output_type": "stream",
     "text": [
      "Results for the ADF test:\n",
      "Test Statistic                 -2.211270\n",
      "p-value                         0.202180\n",
      "Lags Used                      13.000000\n",
      "Number of Observations Used    90.000000\n",
      "Critical Value (1%)            -3.505190\n",
      "Critical Value (5%)            -2.894232\n",
      "Critical Value (10%)           -2.584210\n",
      "dtype: float64\n"
     ]
    },
    {
     "data": {
      "image/png": "[encoded data removed]",
      "text/plain": [
       "<Figure size 720x360 with 1 Axes>"
      ]
     },
     "metadata": {
      "needs_background": "light"
     },
     "output_type": "display_data"
    }
   ],
   "source": [
    "second_differenced = first_differenced.diff().dropna()\n",
    "plot_data([second_differenced], 'Second difference', ['Second difference'], 'Time', 'People')\n",
    "adf_results = adfuller(second_differenced)\n",
    "print_adf(adf_results)"
   ]
  },
  {
   "cell_type": "markdown",
   "metadata": {},
   "source": [
    "When differenced a third time the data shows us that there are no more unit roots. The p-value has become so small that there is almost a 100% certainty of it."
   ]
  },
  {
   "cell_type": "code",
   "execution_count": 96,
   "metadata": {},
   "outputs": [
    {
     "name": "stdout",
     "output_type": "stream",
     "text": [
      "Results for the ADF test:\n",
      "Test Statistic                 -2.219884\n",
      "p-value                         0.199108\n",
      "Lags Used                      12.000000\n",
      "Number of Observations Used    90.000000\n",
      "Critical Value (1%)            -3.505190\n",
      "Critical Value (5%)            -2.894232\n",
      "Critical Value (10%)           -2.584210\n",
      "dtype: float64\n"
     ]
    },
    {
     "data": {
      "image/png": "[encoded data removed]",
      "text/plain": [
       "<Figure size 720x360 with 1 Axes>"
      ]
     },
     "metadata": {
      "needs_background": "light"
     },
     "output_type": "display_data"
    }
   ],
   "source": [
    "third_differenced = second_differenced.diff().dropna()\n",
    "plot_data([second_differenced], 'Third difference', ['Third difference'], 'Time', 'People')\n",
    "adf_results = adfuller(third_differenced)\n",
    "print_adf(adf_results)"
   ]
  },
  {
   "cell_type": "markdown",
   "metadata": {},
   "source": [
    "### 3.4.2 Gaussian Curve <a name=\"time_transf_gauss\"></a>"
   ]
  },
  {
   "cell_type": "markdown",
   "metadata": {},
   "source": [
    "It is desirable that the data fits a Gaussian curve as it is easier to model it. The shape of this dataset can be seen by plotting it as a histogram. It is possible to see that the original data has a long right tail. This means that there a many 'rare values' greater than the mean (average). This makes sense when looking back at the original plot where the curve stays horizontal for a while before the number of infected people start to rise."
   ]
  },
  {
   "cell_type": "markdown",
   "metadata": {},
   "source": [
    "On the other hand, the data after being differenced three times looks more like a Gaussian distribution (the bell shape). This is because the trends where removed."
   ]
  },
  {
   "cell_type": "code",
   "execution_count": 97,
   "metadata": {},
   "outputs": [
    {
     "data": {
      "image/png": "[encoded data removed]",
      "text/plain": [
       "<Figure size 720x360 with 2 Axes>"
      ]
     },
     "metadata": {
      "needs_background": "light"
     },
     "output_type": "display_data"
    }
   ],
   "source": [
    "fig, ax = plt.subplots(2, 1)\n",
    "current_infected.plot(kind='hist', ax=ax[0])\n",
    "ax[0].set_title(\"Original dataset.\")\n",
    "third_differenced.plot(kind='hist', ax=ax[1])\n",
    "ax[1].set_title(\"Dataset without unit roots.\")\n",
    "fig.tight_layout()"
   ]
  },
  {
   "cell_type": "markdown",
   "metadata": {},
   "source": [
    "#### 3.4.2.1 The BoxCox methods"
   ]
  },
  {
   "cell_type": "code",
   "execution_count": 98,
   "metadata": {},
   "outputs": [],
   "source": [
    "one_d_ci = [i[0] for i in current_infected.values]  # The boxcox methods require 1 dimensional data."
   ]
  },
  {
   "cell_type": "code",
   "execution_count": 99,
   "metadata": {},
   "outputs": [],
   "source": [
    "data1 = boxcox(one_d_ci, -1)    # reciprocal transform.\n",
    "data2 = boxcox(one_d_ci, -0.5)  # reciprocal square root transform.\n",
    "data3 = boxcox(one_d_ci, 0)     # log transform.\n",
    "data4 = boxcox(one_d_ci, 0.5)   # square root transform."
   ]
  },
  {
   "cell_type": "code",
   "execution_count": 100,
   "metadata": {},
   "outputs": [
    {
     "data": {
      "image/png": "[encoded data removed]",
      "text/plain": [
       "<Figure size 720x360 with 4 Axes>"
      ]
     },
     "metadata": {
      "needs_background": "light"
     },
     "output_type": "display_data"
    }
   ],
   "source": [
    "fig, axes = plt.subplots(2, 2)\n",
    "axes[0, 0].hist(data1)\n",
    "axes[0, 0].set_title('Reciprocal transform')\n",
    "start, end = axes[0, 0].get_xlim()  # Prevents the labels on the x-axis from overlapping.\n",
    "axes[0, 0].xaxis.set_ticks(np.arange(start, end, 0.00050))\n",
    "axes[0, 1].hist(data2)\n",
    "axes[0, 1].set_title('Reciprocal square root transform')\n",
    "axes[1, 0].hist(data3)\n",
    "axes[1, 0].set_title('Log transform')\n",
    "axes[1, 1].hist(data4)\n",
    "axes[1, 1].set_title('Square root transform')\n",
    "fig.tight_layout()"
   ]
  },
  {
   "cell_type": "markdown",
   "metadata": {},
   "source": [
    "From the graphs above it is possible to see that the method that makes the data look more like a Gaussian distribution is the<br>\n",
    "log transform. This can be used on the data to 'squash' the values before giving it to the neural network. This is important<br>\n",
    "because it would take longer to process the larger numbers. Taking the log of the data will reduce training time without<br>\n",
    "drastically affecting the structure of the data."
   ]
  },
  {
   "cell_type": "markdown",
   "metadata": {},
   "source": [
    "Note that the these transformations where applied to the original data before the differencing."
   ]
  },
  {
   "cell_type": "markdown",
   "metadata": {},
   "source": [
    "# 4. Preparing the data for the Neural Network <a name=\"prep\"></a>"
   ]
  },
  {
   "cell_type": "markdown",
   "metadata": {},
   "source": [
    "## 4.1 Train and test <a name=\"prep_traintest\"></a>"
   ]
  },
  {
   "cell_type": "markdown",
   "metadata": {},
   "source": [
    "The neural networks used in this experiment are the LSTM (a type of RNN) and the GRU (a simplified LSTM). These were chosen as<br>\n",
    "they were designed to handle sequence data like a time series."
   ]
  },
  {
   "cell_type": "code",
   "execution_count": 101,
   "metadata": {},
   "outputs": [],
   "source": [
    "forecast_horizon = 4   # Number of observations to be used to predict the next event.\n",
    "train_set_ratio = 0.7  # The size of the training set as a percentage of the data set."
   ]
  },
  {
   "cell_type": "markdown",
   "metadata": {},
   "source": [
    "Split the data into train and test sets. This must be done before any transformations to avoid data leakage. Otherwise there might be information about the test set in the train set because of the data transformation applied.<br>\n",
    "Note: the transformations done before where for the analysis of the time series, now they will be used to actually reshape the data."
   ]
  },
  {
   "cell_type": "code",
   "execution_count": 102,
   "metadata": {},
   "outputs": [],
   "source": [
    "train, test = data_handler.split_train_test(current_infected, train_set_ratio)"
   ]
  },
  {
   "cell_type": "markdown",
   "metadata": {},
   "source": [
    "This helps visualize the train and test data."
   ]
  },
  {
   "cell_type": "code",
   "execution_count": 103,
   "metadata": {},
   "outputs": [
    {
     "data": {
      "image/png": "[encoded data removed]",
      "text/plain": [
       "<Figure size 720x360 with 1 Axes>"
      ]
     },
     "metadata": {
      "needs_background": "light"
     },
     "output_type": "display_data"
    }
   ],
   "source": [
    "plot_data([train, test], 'Test and train data', ['Train data', 'Test data'], 'Number of infected', 'Time')"
   ]
  },
  {
   "cell_type": "markdown",
   "metadata": {},
   "source": [
    "Make the time series data stationary based on what we found before."
   ]
  },
  {
   "cell_type": "code",
   "execution_count": 104,
   "metadata": {},
   "outputs": [],
   "source": [
    "train_log, train_diff_one, train_diff_two, stationary_train = data_handler.adjust_data(train)\n",
    "test_log, test_diff_one, test_diff_two, stationary_test = data_handler.adjust_data(test)"
   ]
  },
  {
   "cell_type": "markdown",
   "metadata": {},
   "source": [
    "## 4.2 Supervised learning <a name=\"prep_super\"></a>"
   ]
  },
  {
   "cell_type": "markdown",
   "metadata": {},
   "source": [
    "Transform the data into a supervised learning dataset. Essentially the neural network will use a number of observations<br>\n",
    "(forecast horizon) to predict the next event in the sequence, e.g. use four days of data to predict the fifth."
   ]
  },
  {
   "cell_type": "code",
   "execution_count": 105,
   "metadata": {},
   "outputs": [],
   "source": [
    "supervised_train = data_handler.series_to_supervised(stationary_train, 0, forecast_horizon)\n",
    "supervised_test = data_handler.series_to_supervised(stationary_test, 0, forecast_horizon)"
   ]
  },
  {
   "cell_type": "markdown",
   "metadata": {},
   "source": [
    "Create sets for input and output based on the forecast horizon."
   ]
  },
  {
   "cell_type": "code",
   "execution_count": 106,
   "metadata": {},
   "outputs": [],
   "source": [
    "x_train, y_train = data_handler.split_horizon(supervised_train, forecast_horizon)\n",
    "x_test, y_test = data_handler.split_horizon(supervised_test, forecast_horizon)"
   ]
  },
  {
   "cell_type": "markdown",
   "metadata": {},
   "source": [
    "This part is required by the Keras models as they take 3 dimensional input.<br>\n",
    "Reshape x from [samples, time steps] to [samples, time steps, features]<br>\n",
    "Where samples = rows and time steps = columns."
   ]
  },
  {
   "cell_type": "code",
   "execution_count": 107,
   "metadata": {},
   "outputs": [],
   "source": [
    "features = 1\n",
    "x_train = x_train.reshape(x_train.shape[0], x_train.shape[1], features)\n",
    "x_test = x_test.reshape(x_test.shape[0], x_test.shape[1], features)"
   ]
  },
  {
   "cell_type": "markdown",
   "metadata": {},
   "source": [
    "# 5. The LSTM <a name=\"lstm\"></a>"
   ]
  },
  {
   "cell_type": "markdown",
   "metadata": {},
   "source": [
    "## The hyperparameters"
   ]
  },
  {
   "cell_type": "markdown",
   "metadata": {},
   "source": [
    "A standard sequential model. One layer after the other."
   ]
  },
  {
   "cell_type": "code",
   "execution_count": 108,
   "metadata": {},
   "outputs": [],
   "source": [
    "lstm_model = Sequential()"
   ]
  },
  {
   "cell_type": "markdown",
   "metadata": {},
   "source": [
    "## 5.1 Input, hidden and output layers <a name=\"lstm_layers\"></a>"
   ]
  },
  {
   "cell_type": "markdown",
   "metadata": {},
   "source": [
    "### 5.1.1 The input layer."
   ]
  },
  {
   "cell_type": "markdown",
   "metadata": {},
   "source": [
    "The LSTM receives the input as an array of size equals to the forecast horizon where each item is an array of size one.<br>\n",
    "e.g. [[1], [2], [3], [4]]"
   ]
  },
  {
   "cell_type": "code",
   "execution_count": 109,
   "metadata": {},
   "outputs": [],
   "source": [
    "input_layer = (forecast_horizon, 1)"
   ]
  },
  {
   "cell_type": "markdown",
   "metadata": {},
   "source": [
    "### 5.1.2 The hidden layer."
   ]
  },
  {
   "cell_type": "code",
   "execution_count": 110,
   "metadata": {},
   "outputs": [],
   "source": [
    "nodes = 5  #  The number of nodes in the hidden layer represents how 'wide' the network will be.\n",
    "lstm_model.add(LSTM(nodes, input_shape=input_layer))"
   ]
  },
  {
   "cell_type": "code",
   "execution_count": 111,
   "metadata": {},
   "outputs": [],
   "source": [
    "lstm_activation = \"relu\"  # The activation function decides how much information flows though the nodes.\n",
    "lstm_model.add(Activation(lstm_activation))"
   ]
  },
  {
   "cell_type": "markdown",
   "metadata": {},
   "source": [
    "The dropout function selects nodes at random and uses them during one training epoch (iteration). This is applied for each training epoch.<br>\n",
    "his helps reduce overfitting by making the nodes learn the data instead of relying on other nodes."
   ]
  },
  {
   "cell_type": "code",
   "execution_count": 112,
   "metadata": {},
   "outputs": [],
   "source": [
    "rate = 0.1 # The probability of a node being ignored during training, e.g. 10%.\n",
    "lstm_model.add(Dropout(rate))"
   ]
  },
  {
   "cell_type": "markdown",
   "metadata": {},
   "source": [
    "### 5.1.3 The output layer."
   ]
  },
  {
   "cell_type": "code",
   "execution_count": 113,
   "metadata": {},
   "outputs": [],
   "source": [
    "out_shape = 1  # The number of outputs the LSTM will produce. Technically the number of nodes in the dense layer.\n",
    "# It is possible to output the forecasts for the next few days but in this model only one value will be produced.\n",
    "lstm_model.add(Dense(out_shape))"
   ]
  },
  {
   "cell_type": "code",
   "execution_count": 114,
   "metadata": {},
   "outputs": [],
   "source": [
    "dense_activation = \"sigmoid\"  # The activation function for the output node works the same as for the hidden layer.\n",
    "lstm_model.add(Activation(dense_activation))"
   ]
  },
  {
   "cell_type": "markdown",
   "metadata": {},
   "source": [
    "## 5.2 Training the model <a name=\"lstm_train\"></a>"
   ]
  },
  {
   "cell_type": "markdown",
   "metadata": {},
   "source": [
    "Here the model is told how to learn. The objective of the optimizer is to make the output of the loss function smaller."
   ]
  },
  {
   "cell_type": "code",
   "execution_count": 115,
   "metadata": {},
   "outputs": [],
   "source": [
    "loss = \"mean_squared_error\"\n",
    "opti = \"adam\"\n",
    "lstm_model.compile(loss=loss, optimizer=opti)"
   ]
  },
  {
   "cell_type": "markdown",
   "metadata": {},
   "source": [
    "This will stop the training if the loss does not change for 50 consecutive epochs."
   ]
  },
  {
   "cell_type": "code",
   "execution_count": 116,
   "metadata": {},
   "outputs": [],
   "source": [
    "early_stopping = EarlyStopping(patience=50, restore_best_weights=True)"
   ]
  },
  {
   "cell_type": "markdown",
   "metadata": {},
   "source": [
    "Here the model is trained. As this was framed as a supervised learning task the LSTM will try to match the input (x_train) to<br>\n",
    "the output (y_train). One input will pass through the LSTM at a time (batch_size) until all inputs are processed. This will be<br>\n",
    "done 1000 times (epochs) and in each iteration the network will (hopefully) 'learn' a little more. One fifth of the training<br>\n",
    "data (0.2) is left out as a validation set for each epoch."
   ]
  },
  {
   "cell_type": "code",
   "execution_count": 117,
   "metadata": {},
   "outputs": [],
   "source": [
    "lstm_history = lstm_model.fit(x_train, y_train, epochs=1000, batch_size=1, verbose=0, callbacks=[early_stopping],\n",
    "        validation_split=0.2)"
   ]
  },
  {
   "cell_type": "markdown",
   "metadata": {},
   "source": [
    "## 5.3 A model for the competition <a name=\"lstm_diff\"></a>"
   ]
  },
  {
   "cell_type": "markdown",
   "metadata": {},
   "source": [
    "#### The submission file for the competition was generated by this model."
   ]
  },
  {
   "cell_type": "code",
   "execution_count": 118,
   "metadata": {},
   "outputs": [],
   "source": [
    "multi_data = pd.concat([confirmed, deceased], axis=1)\n",
    "multi_train, multi_test = data_handler.split_train_test(multi_data, train_set_ratio)"
   ]
  },
  {
   "cell_type": "code",
   "execution_count": 119,
   "metadata": {},
   "outputs": [
    {
     "name": "stdout",
     "output_type": "stream",
     "text": [
      "(106, 2)\n",
      "(74, 2)\n",
      "(32, 2)\n"
     ]
    }
   ],
   "source": [
    "print(multi_data.shape)\n",
    "print(multi_train.shape)\n",
    "print(multi_test.shape)"
   ]
  },
  {
   "cell_type": "code",
   "execution_count": 120,
   "metadata": {},
   "outputs": [],
   "source": [
    "multi_train_log, multi_train_diff_one, multi_train_diff_two, stationary_multi_train = data_handler.adjust_data(multi_train)\n",
    "multi_test_log, multi_test_diff_one, multi_test_diff_two, stationary_multi_test = data_handler.adjust_data(multi_test)"
   ]
  },
  {
   "cell_type": "code",
   "execution_count": 121,
   "metadata": {},
   "outputs": [
    {
     "name": "stdout",
     "output_type": "stream",
     "text": [
      "(71, 2)\n",
      "(29, 2)\n"
     ]
    }
   ],
   "source": [
    "print(stationary_multi_train.shape)\n",
    "print(stationary_multi_test.shape)"
   ]
  },
  {
   "cell_type": "code",
   "execution_count": 122,
   "metadata": {},
   "outputs": [],
   "source": [
    "x_multi_train, y_multi_train = data_handler.multivariate_to_supervised(stationary_multi_train, forecast_horizon)\n",
    "x_multi_test, y_multi_test = data_handler.multivariate_to_supervised(stationary_multi_test, forecast_horizon)"
   ]
  },
  {
   "cell_type": "code",
   "execution_count": 123,
   "metadata": {},
   "outputs": [
    {
     "name": "stdout",
     "output_type": "stream",
     "text": [
      "(67, 4, 2)\n",
      "(67, 2)\n",
      "(25, 4, 2)\n",
      "(25, 2)\n"
     ]
    }
   ],
   "source": [
    "print(x_multi_train.shape)\n",
    "print(y_multi_train.shape)\n",
    "print(x_multi_test.shape)\n",
    "print(y_multi_test.shape)"
   ]
  },
  {
   "cell_type": "code",
   "execution_count": 124,
   "metadata": {},
   "outputs": [],
   "source": [
    "feature_n = 2  # Number of features = number of time series (infected and deceased).\n",
    "#x_multi_train = x_multi_train.reshape(x_multi_train.shape[0], x_multi_train.shape[1], feature_n)\n",
    "#x_multi_test = x_multi_test.reshape(x_multi_test.shape[0], x_multi_test.shape[1], feature_n)"
   ]
  },
  {
   "cell_type": "code",
   "execution_count": 125,
   "metadata": {},
   "outputs": [],
   "source": [
    "#print(x_multi_train.shape)\n",
    "#print(x_multi_test.shape)"
   ]
  },
  {
   "cell_type": "code",
   "execution_count": 126,
   "metadata": {},
   "outputs": [
    {
     "name": "stdout",
     "output_type": "stream",
     "text": [
      "[[[-1.42252457e-01 -1.98718066e-01]\n",
      "  [-8.87194700e-02 -3.03739308e-01]\n",
      "  [-3.52233679e-02  2.85576492e-01]\n",
      "  [ 3.87845265e-01 -6.57496467e-03]]\n",
      "\n",
      " [[-8.87194700e-02 -3.03739308e-01]\n",
      "  [-3.52233679e-02  2.85576492e-01]\n",
      "  [ 3.87845265e-01 -6.57496467e-03]\n",
      "  [-8.65978762e-01 -5.40436790e-01]]\n",
      "\n",
      " [[-3.52233679e-02  2.85576492e-01]\n",
      "  [ 3.87845265e-01 -6.57496467e-03]\n",
      "  [-8.65978762e-01 -5.40436790e-01]\n",
      "  [ 7.33633795e-01  6.89488894e-01]]\n",
      "\n",
      " [[ 3.87845265e-01 -6.57496467e-03]\n",
      "  [-8.65978762e-01 -5.40436790e-01]\n",
      "  [ 7.33633795e-01  6.89488894e-01]\n",
      "  [-2.91236753e-01 -2.67848442e-01]]\n",
      "\n",
      " [[-8.65978762e-01 -5.40436790e-01]\n",
      "  [ 7.33633795e-01  6.89488894e-01]\n",
      "  [-2.91236753e-01 -2.67848442e-01]\n",
      "  [ 1.08058801e-01  7.59310586e-03]]\n",
      "\n",
      " [[ 7.33633795e-01  6.89488894e-01]\n",
      "  [-2.91236753e-01 -2.67848442e-01]\n",
      "  [ 1.08058801e-01  7.59310586e-03]\n",
      "  [ 1.33902867e-01  1.63372967e-01]]\n",
      "\n",
      " [[-2.91236753e-01 -2.67848442e-01]\n",
      "  [ 1.08058801e-01  7.59310586e-03]\n",
      "  [ 1.33902867e-01  1.63372967e-01]\n",
      "  [-3.03103208e-01 -3.11301270e-01]]\n",
      "\n",
      " [[ 1.08058801e-01  7.59310586e-03]\n",
      "  [ 1.33902867e-01  1.63372967e-01]\n",
      "  [-3.03103208e-01 -3.11301270e-01]\n",
      "  [ 1.77996188e-01  1.53265251e-01]]\n",
      "\n",
      " [[ 1.33902867e-01  1.63372967e-01]\n",
      "  [-3.03103208e-01 -3.11301270e-01]\n",
      "  [ 1.77996188e-01  1.53265251e-01]\n",
      "  [-5.28592113e-02  1.12919290e-02]]\n",
      "\n",
      " [[-3.03103208e-01 -3.11301270e-01]\n",
      "  [ 1.77996188e-01  1.53265251e-01]\n",
      "  [-5.28592113e-02  1.12919290e-02]\n",
      "  [ 9.37132788e-04 -1.21169968e-02]]\n",
      "\n",
      " [[ 1.77996188e-01  1.53265251e-01]\n",
      "  [-5.28592113e-02  1.12919290e-02]\n",
      "  [ 9.37132788e-04 -1.21169968e-02]\n",
      "  [ 3.95408858e-02  2.83985324e-02]]\n",
      "\n",
      " [[-5.28592113e-02  1.12919290e-02]\n",
      "  [ 9.37132788e-04 -1.21169968e-02]\n",
      "  [ 3.95408858e-02  2.83985324e-02]\n",
      "  [-3.63522867e-02 -2.04077188e-02]]\n",
      "\n",
      " [[ 9.37132788e-04 -1.21169968e-02]\n",
      "  [ 3.95408858e-02  2.83985324e-02]\n",
      "  [-3.63522867e-02 -2.04077188e-02]\n",
      "  [ 3.62195576e-02  1.43231972e-02]]\n",
      "\n",
      " [[ 3.95408858e-02  2.83985324e-02]\n",
      "  [-3.63522867e-02 -2.04077188e-02]\n",
      "  [ 3.62195576e-02  1.43231972e-02]\n",
      "  [-1.75446419e-02 -8.05654408e-03]]\n",
      "\n",
      " [[-3.63522867e-02 -2.04077188e-02]\n",
      "  [ 3.62195576e-02  1.43231972e-02]\n",
      "  [-1.75446419e-02 -8.05654408e-03]\n",
      "  [-9.85378701e-04 -1.21659858e-02]]\n",
      "\n",
      " [[ 3.62195576e-02  1.43231972e-02]\n",
      "  [-1.75446419e-02 -8.05654408e-03]\n",
      "  [-9.85378701e-04 -1.21659858e-02]\n",
      "  [-2.08696303e-02 -7.21711934e-02]]\n",
      "\n",
      " [[-1.75446419e-02 -8.05654408e-03]\n",
      "  [-9.85378701e-04 -1.21659858e-02]\n",
      "  [-2.08696303e-02 -7.21711934e-02]\n",
      "  [ 3.16882907e-01  2.89177268e-01]]\n",
      "\n",
      " [[-9.85378701e-04 -1.21659858e-02]\n",
      "  [-2.08696303e-02 -7.21711934e-02]\n",
      "  [ 3.16882907e-01  2.89177268e-01]\n",
      "  [-4.65970802e-01 -2.98374076e-01]]\n",
      "\n",
      " [[-2.08696303e-02 -7.21711934e-02]\n",
      "  [ 3.16882907e-01  2.89177268e-01]\n",
      "  [-4.65970802e-01 -2.98374076e-01]\n",
      "  [ 1.15432921e-01  8.34591490e-02]]\n",
      "\n",
      " [[ 3.16882907e-01  2.89177268e-01]\n",
      "  [-4.65970802e-01 -2.98374076e-01]\n",
      "  [ 1.15432921e-01  8.34591490e-02]\n",
      "  [ 7.06712791e-02 -1.37912635e-02]]\n",
      "\n",
      " [[-4.65970802e-01 -2.98374076e-01]\n",
      "  [ 1.15432921e-01  8.34591490e-02]\n",
      "  [ 7.06712791e-02 -1.37912635e-02]\n",
      "  [-2.85321246e-03  2.25242574e-02]]\n",
      "\n",
      " [[ 1.15432921e-01  8.34591490e-02]\n",
      "  [ 7.06712791e-02 -1.37912635e-02]\n",
      "  [-2.85321246e-03  2.25242574e-02]\n",
      "  [ 2.85762012e-04  2.45491464e-02]]\n",
      "\n",
      " [[ 7.06712791e-02 -1.37912635e-02]\n",
      "  [-2.85321246e-03  2.25242574e-02]\n",
      "  [ 2.85762012e-04  2.45491464e-02]\n",
      "  [-1.57948605e-02 -3.39386964e-02]]\n",
      "\n",
      " [[-2.85321246e-03  2.25242574e-02]\n",
      "  [ 2.85762012e-04  2.45491464e-02]\n",
      "  [-1.57948605e-02 -3.39386964e-02]\n",
      "  [ 1.93179796e-02  1.75737423e-02]]\n",
      "\n",
      " [[ 2.85762012e-04  2.45491464e-02]\n",
      "  [-1.57948605e-02 -3.39386964e-02]\n",
      "  [ 1.93179796e-02  1.75737423e-02]\n",
      "  [ 1.01994661e-04 -5.69773669e-02]]\n",
      "\n",
      " [[-1.57948605e-02 -3.39386964e-02]\n",
      "  [ 1.93179796e-02  1.75737423e-02]\n",
      "  [ 1.01994661e-04 -5.69773669e-02]\n",
      "  [ 1.36536380e-02  1.41653265e-01]]\n",
      "\n",
      " [[ 1.93179796e-02  1.75737423e-02]\n",
      "  [ 1.01994661e-04 -5.69773669e-02]\n",
      "  [ 1.36536380e-02  1.41653265e-01]\n",
      "  [-3.20962158e-02 -1.69703130e-01]]\n",
      "\n",
      " [[ 1.01994661e-04 -5.69773669e-02]\n",
      "  [ 1.36536380e-02  1.41653265e-01]\n",
      "  [-3.20962158e-02 -1.69703130e-01]\n",
      "  [ 2.03700267e-02  1.41833386e-01]]\n",
      "\n",
      " [[ 1.36536380e-02  1.41653265e-01]\n",
      "  [-3.20962158e-02 -1.69703130e-01]\n",
      "  [ 2.03700267e-02  1.41833386e-01]\n",
      "  [ 2.49525854e-04 -9.15086622e-02]]\n",
      "\n",
      " [[-3.20962158e-02 -1.69703130e-01]\n",
      "  [ 2.03700267e-02  1.41833386e-01]\n",
      "  [ 2.49525854e-04 -9.15086622e-02]\n",
      "  [-1.38255522e-03  2.62136819e-02]]\n",
      "\n",
      " [[ 2.03700267e-02  1.41833386e-01]\n",
      "  [ 2.49525854e-04 -9.15086622e-02]\n",
      "  [-1.38255522e-03  2.62136819e-02]\n",
      "  [ 2.83452650e-03  9.25174968e-05]]\n",
      "\n",
      " [[ 2.49525854e-04 -9.15086622e-02]\n",
      "  [-1.38255522e-03  2.62136819e-02]\n",
      "  [ 2.83452650e-03  9.25174968e-05]\n",
      "  [-4.58305437e-03  1.15193807e-02]]\n",
      "\n",
      " [[-1.38255522e-03  2.62136819e-02]\n",
      "  [ 2.83452650e-03  9.25174968e-05]\n",
      "  [-4.58305437e-03  1.15193807e-02]\n",
      "  [ 6.12664499e-03 -1.30273811e-03]]\n",
      "\n",
      " [[ 2.83452650e-03  9.25174968e-05]\n",
      "  [-4.58305437e-03  1.15193807e-02]\n",
      "  [ 6.12664499e-03 -1.30273811e-03]\n",
      "  [-1.23229823e-03 -8.55191819e-03]]\n",
      "\n",
      " [[-4.58305437e-03  1.15193807e-02]\n",
      "  [ 6.12664499e-03 -1.30273811e-03]\n",
      "  [-1.23229823e-03 -8.55191819e-03]\n",
      "  [-1.00834438e-02  1.59577879e-02]]\n",
      "\n",
      " [[ 6.12664499e-03 -1.30273811e-03]\n",
      "  [-1.23229823e-03 -8.55191819e-03]\n",
      "  [-1.00834438e-02  1.59577879e-02]\n",
      "  [ 1.13543644e-02 -1.59984071e-02]]\n",
      "\n",
      " [[-1.23229823e-03 -8.55191819e-03]\n",
      "  [-1.00834438e-02  1.59577879e-02]\n",
      "  [ 1.13543644e-02 -1.59984071e-02]\n",
      "  [-9.40301105e-03  1.05458324e-02]]\n",
      "\n",
      " [[-1.00834438e-02  1.59577879e-02]\n",
      "  [ 1.13543644e-02 -1.59984071e-02]\n",
      "  [-9.40301105e-03  1.05458324e-02]\n",
      "  [ 7.81461992e-03 -6.42617872e-03]]\n",
      "\n",
      " [[ 1.13543644e-02 -1.59984071e-02]\n",
      "  [-9.40301105e-03  1.05458324e-02]\n",
      "  [ 7.81461992e-03 -6.42617872e-03]\n",
      "  [ 6.14949425e-03  5.86926206e-03]]\n",
      "\n",
      " [[-9.40301105e-03  1.05458324e-02]\n",
      "  [ 7.81461992e-03 -6.42617872e-03]\n",
      "  [ 6.14949425e-03  5.86926206e-03]\n",
      "  [-1.07937702e-02 -9.43174273e-03]]\n",
      "\n",
      " [[ 7.81461992e-03 -6.42617872e-03]\n",
      "  [ 6.14949425e-03  5.86926206e-03]\n",
      "  [-1.07937702e-02 -9.43174273e-03]\n",
      "  [-1.87595243e-03  4.25425899e-02]]\n",
      "\n",
      " [[ 6.14949425e-03  5.86926206e-03]\n",
      "  [-1.07937702e-02 -9.43174273e-03]\n",
      "  [-1.87595243e-03  4.25425899e-02]\n",
      "  [-9.95790306e-04 -5.61372638e-02]]\n",
      "\n",
      " [[-1.07937702e-02 -9.43174273e-03]\n",
      "  [-1.87595243e-03  4.25425899e-02]\n",
      "  [-9.95790306e-04 -5.61372638e-02]\n",
      "  [ 1.26993314e-02  3.74499134e-02]]\n",
      "\n",
      " [[-1.87595243e-03  4.25425899e-02]\n",
      "  [-9.95790306e-04 -5.61372638e-02]\n",
      "  [ 1.26993314e-02  3.74499134e-02]\n",
      "  [ 6.44868692e-03 -6.97123841e-03]]\n",
      "\n",
      " [[-9.95790306e-04 -5.61372638e-02]\n",
      "  [ 1.26993314e-02  3.74499134e-02]\n",
      "  [ 6.44868692e-03 -6.97123841e-03]\n",
      "  [-5.59117185e-02 -6.81726956e-02]]\n",
      "\n",
      " [[ 1.26993314e-02  3.74499134e-02]\n",
      "  [ 6.44868692e-03 -6.97123841e-03]\n",
      "  [-5.59117185e-02 -6.81726956e-02]\n",
      "  [ 1.43856426e-01  1.68494364e-01]]\n",
      "\n",
      " [[ 6.44868692e-03 -6.97123841e-03]\n",
      "  [-5.59117185e-02 -6.81726956e-02]\n",
      "  [ 1.43856426e-01  1.68494364e-01]\n",
      "  [-1.55089405e-01 -1.73018860e-01]]\n",
      "\n",
      " [[-5.59117185e-02 -6.81726956e-02]\n",
      "  [ 1.43856426e-01  1.68494364e-01]\n",
      "  [-1.55089405e-01 -1.73018860e-01]\n",
      "  [ 4.89347375e-02  8.98397562e-02]]\n",
      "\n",
      " [[ 1.43856426e-01  1.68494364e-01]\n",
      "  [-1.55089405e-01 -1.73018860e-01]\n",
      "  [ 4.89347375e-02  8.98397562e-02]\n",
      "  [ 1.30369633e-02 -3.41715202e-02]]\n",
      "\n",
      " [[-1.55089405e-01 -1.73018860e-01]\n",
      "  [ 4.89347375e-02  8.98397562e-02]\n",
      "  [ 1.30369633e-02 -3.41715202e-02]\n",
      "  [-9.95007312e-03  1.20278298e-02]]\n",
      "\n",
      " [[ 4.89347375e-02  8.98397562e-02]\n",
      "  [ 1.30369633e-02 -3.41715202e-02]\n",
      "  [-9.95007312e-03  1.20278298e-02]\n",
      "  [ 3.27859933e-03 -1.05652444e-02]]\n",
      "\n",
      " [[ 1.30369633e-02 -3.41715202e-02]\n",
      "  [-9.95007312e-03  1.20278298e-02]\n",
      "  [ 3.27859933e-03 -1.05652444e-02]\n",
      "  [ 3.12239885e-02  1.97513418e-02]]\n",
      "\n",
      " [[-9.95007312e-03  1.20278298e-02]\n",
      "  [ 3.27859933e-03 -1.05652444e-02]\n",
      "  [ 3.12239885e-02  1.97513418e-02]\n",
      "  [-4.17427882e-02  2.18942309e-03]]\n",
      "\n",
      " [[ 3.27859933e-03 -1.05652444e-02]\n",
      "  [ 3.12239885e-02  1.97513418e-02]\n",
      "  [-4.17427882e-02  2.18942309e-03]\n",
      "  [ 3.24081456e-03 -1.79557196e-02]]\n",
      "\n",
      " [[ 3.12239885e-02  1.97513418e-02]\n",
      "  [-4.17427882e-02  2.18942309e-03]\n",
      "  [ 3.24081456e-03 -1.79557196e-02]\n",
      "  [-7.76946216e-03 -1.77879801e-02]]\n",
      "\n",
      " [[-4.17427882e-02  2.18942309e-03]\n",
      "  [ 3.24081456e-03 -1.79557196e-02]\n",
      "  [-7.76946216e-03 -1.77879801e-02]\n",
      "  [ 2.50762670e-02  1.80056979e-02]]\n",
      "\n",
      " [[ 3.24081456e-03 -1.79557196e-02]\n",
      "  [-7.76946216e-03 -1.77879801e-02]\n",
      "  [ 2.50762670e-02  1.80056979e-02]\n",
      "  [-2.96921084e-02  2.79529390e-03]]\n",
      "\n",
      " [[-7.76946216e-03 -1.77879801e-02]\n",
      "  [ 2.50762670e-02  1.80056979e-02]\n",
      "  [-2.96921084e-02  2.79529390e-03]\n",
      "  [ 2.76485170e-02  6.18634708e-03]]\n",
      "\n",
      " [[ 2.50762670e-02  1.80056979e-02]\n",
      "  [-2.96921084e-02  2.79529390e-03]\n",
      "  [ 2.76485170e-02  6.18634708e-03]\n",
      "  [ 5.52557993e-05 -1.67140912e-02]]\n",
      "\n",
      " [[-2.96921084e-02  2.79529390e-03]\n",
      "  [ 2.76485170e-02  6.18634708e-03]\n",
      "  [ 5.52557993e-05 -1.67140912e-02]\n",
      "  [-2.30723113e-02  9.84811993e-03]]\n",
      "\n",
      " [[ 2.76485170e-02  6.18634708e-03]\n",
      "  [ 5.52557993e-05 -1.67140912e-02]\n",
      "  [-2.30723113e-02  9.84811993e-03]\n",
      "  [ 4.82698966e-03 -1.80837779e-02]]\n",
      "\n",
      " [[ 5.52557993e-05 -1.67140912e-02]\n",
      "  [-2.30723113e-02  9.84811993e-03]\n",
      "  [ 4.82698966e-03 -1.80837779e-02]\n",
      "  [-1.54059525e-02  3.37186697e-03]]\n",
      "\n",
      " [[-2.30723113e-02  9.84811993e-03]\n",
      "  [ 4.82698966e-03 -1.80837779e-02]\n",
      "  [-1.54059525e-02  3.37186697e-03]\n",
      "  [ 1.80953984e-02  1.68303956e-02]]\n",
      "\n",
      " [[ 4.82698966e-03 -1.80837779e-02]\n",
      "  [-1.54059525e-02  3.37186697e-03]\n",
      "  [ 1.80953984e-02  1.68303956e-02]\n",
      "  [ 1.21570502e-02 -4.50391285e-04]]\n",
      "\n",
      " [[-1.54059525e-02  3.37186697e-03]\n",
      "  [ 1.80953984e-02  1.68303956e-02]\n",
      "  [ 1.21570502e-02 -4.50391285e-04]\n",
      "  [-1.66277647e-02 -3.51944278e-03]]\n",
      "\n",
      " [[ 1.80953984e-02  1.68303956e-02]\n",
      "  [ 1.21570502e-02 -4.50391285e-04]\n",
      "  [-1.66277647e-02 -3.51944278e-03]\n",
      "  [ 7.03234806e-03 -4.29612564e-04]]\n",
      "\n",
      " [[ 1.21570502e-02 -4.50391285e-04]\n",
      "  [-1.66277647e-02 -3.51944278e-03]\n",
      "  [ 7.03234806e-03 -4.29612564e-04]\n",
      "  [-4.15698012e-03 -1.52167100e-02]]]\n"
     ]
    }
   ],
   "source": [
    "print(x_multi_train)\n",
    "#print(x_multi_test)"
   ]
  },
  {
   "cell_type": "code",
   "execution_count": 127,
   "metadata": {
    "scrolled": true
   },
   "outputs": [],
   "source": [
    "#print(y_multi_train.shape)\n",
    "#print(y_multi_test.shape)"
   ]
  },
  {
   "cell_type": "code",
   "execution_count": 128,
   "metadata": {},
   "outputs": [
    {
     "name": "stdout",
     "output_type": "stream",
     "text": [
      "[[-8.65978762e-01 -5.40436790e-01]\n",
      " [ 7.33633795e-01  6.89488894e-01]\n",
      " [-2.91236753e-01 -2.67848442e-01]\n",
      " [ 1.08058801e-01  7.59310586e-03]\n",
      " [ 1.33902867e-01  1.63372967e-01]\n",
      " [-3.03103208e-01 -3.11301270e-01]\n",
      " [ 1.77996188e-01  1.53265251e-01]\n",
      " [-5.28592113e-02  1.12919290e-02]\n",
      " [ 9.37132788e-04 -1.21169968e-02]\n",
      " [ 3.95408858e-02  2.83985324e-02]\n",
      " [-3.63522867e-02 -2.04077188e-02]\n",
      " [ 3.62195576e-02  1.43231972e-02]\n",
      " [-1.75446419e-02 -8.05654408e-03]\n",
      " [-9.85378701e-04 -1.21659858e-02]\n",
      " [-2.08696303e-02 -7.21711934e-02]\n",
      " [ 3.16882907e-01  2.89177268e-01]\n",
      " [-4.65970802e-01 -2.98374076e-01]\n",
      " [ 1.15432921e-01  8.34591490e-02]\n",
      " [ 7.06712791e-02 -1.37912635e-02]\n",
      " [-2.85321246e-03  2.25242574e-02]\n",
      " [ 2.85762012e-04  2.45491464e-02]\n",
      " [-1.57948605e-02 -3.39386964e-02]\n",
      " [ 1.93179796e-02  1.75737423e-02]\n",
      " [ 1.01994661e-04 -5.69773669e-02]\n",
      " [ 1.36536380e-02  1.41653265e-01]\n",
      " [-3.20962158e-02 -1.69703130e-01]\n",
      " [ 2.03700267e-02  1.41833386e-01]\n",
      " [ 2.49525854e-04 -9.15086622e-02]\n",
      " [-1.38255522e-03  2.62136819e-02]\n",
      " [ 2.83452650e-03  9.25174968e-05]\n",
      " [-4.58305437e-03  1.15193807e-02]\n",
      " [ 6.12664499e-03 -1.30273811e-03]\n",
      " [-1.23229823e-03 -8.55191819e-03]\n",
      " [-1.00834438e-02  1.59577879e-02]\n",
      " [ 1.13543644e-02 -1.59984071e-02]\n",
      " [-9.40301105e-03  1.05458324e-02]\n",
      " [ 7.81461992e-03 -6.42617872e-03]\n",
      " [ 6.14949425e-03  5.86926206e-03]\n",
      " [-1.07937702e-02 -9.43174273e-03]\n",
      " [-1.87595243e-03  4.25425899e-02]\n",
      " [-9.95790306e-04 -5.61372638e-02]\n",
      " [ 1.26993314e-02  3.74499134e-02]\n",
      " [ 6.44868692e-03 -6.97123841e-03]\n",
      " [-5.59117185e-02 -6.81726956e-02]\n",
      " [ 1.43856426e-01  1.68494364e-01]\n",
      " [-1.55089405e-01 -1.73018860e-01]\n",
      " [ 4.89347375e-02  8.98397562e-02]\n",
      " [ 1.30369633e-02 -3.41715202e-02]\n",
      " [-9.95007312e-03  1.20278298e-02]\n",
      " [ 3.27859933e-03 -1.05652444e-02]\n",
      " [ 3.12239885e-02  1.97513418e-02]\n",
      " [-4.17427882e-02  2.18942309e-03]\n",
      " [ 3.24081456e-03 -1.79557196e-02]\n",
      " [-7.76946216e-03 -1.77879801e-02]\n",
      " [ 2.50762670e-02  1.80056979e-02]\n",
      " [-2.96921084e-02  2.79529390e-03]\n",
      " [ 2.76485170e-02  6.18634708e-03]\n",
      " [ 5.52557993e-05 -1.67140912e-02]\n",
      " [-2.30723113e-02  9.84811993e-03]\n",
      " [ 4.82698966e-03 -1.80837779e-02]\n",
      " [-1.54059525e-02  3.37186697e-03]\n",
      " [ 1.80953984e-02  1.68303956e-02]\n",
      " [ 1.21570502e-02 -4.50391285e-04]\n",
      " [-1.66277647e-02 -3.51944278e-03]\n",
      " [ 7.03234806e-03 -4.29612564e-04]\n",
      " [-4.15698012e-03 -1.52167100e-02]\n",
      " [-2.65022640e-03  7.66935228e-03]]\n"
     ]
    }
   ],
   "source": [
    "print(y_multi_train)\n",
    "#print(y_multi_test)"
   ]
  },
  {
   "cell_type": "code",
   "execution_count": 129,
   "metadata": {},
   "outputs": [],
   "source": [
    "competition_model = Sequential()\n",
    "competition_model.add(LSTM(50, return_sequences=True, input_shape=(forecast_horizon, feature_n)))\n",
    "competition_model.add(Activation(\"relu\"))\n",
    "competition_model.add(Dropout(0.1))\n",
    "competition_model.add(LSTM(50))\n",
    "competition_model.add(Activation(\"relu\"))\n",
    "competition_model.add(Dropout(0.1))\n",
    "competition_model.add(Dense(feature_n))\n",
    "competition_model.add(Activation(\"relu\"))\n",
    "competition_model.compile(loss=\"mean_squared_error\", optimizer=\"adam\")\n",
    "competition_history = competition_model.fit(x_multi_train, y_multi_train, epochs=1000, batch_size=1, verbose=0,\n",
    "                                            callbacks=[early_stopping], validation_split=0.2)"
   ]
  },
  {
   "cell_type": "code",
   "execution_count": 130,
   "metadata": {},
   "outputs": [
    {
     "data": {
      "image/png": "[encoded data removed]",
      "text/plain": [
       "<Figure size 720x360 with 1 Axes>"
      ]
     },
     "metadata": {
      "needs_background": "light"
     },
     "output_type": "display_data"
    }
   ],
   "source": [
    "plot_data([competition_history.history['loss'], competition_history.history['val_loss']], 'Loss during Multivariate LSTM training', ['Train', 'Test'], 'Epochs', 'Loss', adjust_xaxis=False)"
   ]
  },
  {
   "cell_type": "code",
   "execution_count": 131,
   "metadata": {},
   "outputs": [],
   "source": [
    "multi_train_prediction = competition_model.predict(x_multi_train)\n",
    "multi_test_prediction = competition_model.predict(x_multi_test)"
   ]
  },
  {
   "cell_type": "markdown",
   "metadata": {},
   "source": [
    "Rescale predictions."
   ]
  },
  {
   "cell_type": "code",
   "execution_count": 132,
   "metadata": {},
   "outputs": [
    {
     "name": "stdout",
     "output_type": "stream",
     "text": [
      "[[0.         0.        ]\n",
      " [0.68672544 0.        ]\n",
      " [0.         0.        ]\n",
      " [0.1413259  0.        ]\n",
      " [0.03096078 0.        ]\n",
      " [0.         0.        ]\n",
      " [0.24641065 0.        ]\n",
      " [0.         0.        ]\n",
      " [0.00181118 0.        ]\n",
      " [0.02360287 0.        ]\n",
      " [0.         0.        ]\n",
      " [0.00794176 0.        ]\n",
      " [0.         0.        ]\n",
      " [0.         0.        ]\n",
      " [0.00590499 0.        ]\n",
      " [0.03021447 0.        ]\n",
      " [0.         0.        ]\n",
      " [0.24444214 0.        ]\n",
      " [0.02991431 0.        ]\n",
      " [0.         0.        ]\n",
      " [0.02340296 0.        ]\n",
      " [0.         0.        ]\n",
      " [0.00254579 0.        ]\n",
      " [0.         0.        ]\n",
      " [0.01226528 0.        ]\n",
      " [0.         0.        ]\n",
      " [0.0371757  0.        ]\n",
      " [0.         0.        ]\n",
      " [0.00473325 0.        ]\n",
      " [0.00816854 0.        ]\n",
      " [0.         0.        ]\n",
      " [0.00146138 0.        ]\n",
      " [0.         0.        ]\n",
      " [0.         0.        ]\n",
      " [0.         0.        ]\n",
      " [0.         0.        ]\n",
      " [0.         0.        ]\n",
      " [0.         0.        ]\n",
      " [0.         0.        ]\n",
      " [0.00184738 0.        ]\n",
      " [0.         0.        ]\n",
      " [0.00829992 0.        ]\n",
      " [0.         0.        ]\n",
      " [0.         0.        ]\n",
      " [0.04033955 0.        ]\n",
      " [0.         0.        ]\n",
      " [0.07323409 0.        ]\n",
      " [0.         0.        ]\n",
      " [0.         0.        ]\n",
      " [0.01380294 0.        ]\n",
      " [0.         0.        ]\n",
      " [0.         0.        ]\n",
      " [0.00254897 0.        ]\n",
      " [0.0044319  0.        ]\n",
      " [0.00889844 0.        ]\n",
      " [0.         0.        ]\n",
      " [0.00415903 0.        ]\n",
      " [0.         0.        ]\n",
      " [0.         0.        ]\n",
      " [0.00457968 0.        ]\n",
      " [0.00374962 0.        ]\n",
      " [0.00767132 0.        ]\n",
      " [0.         0.        ]\n",
      " [0.         0.        ]\n",
      " [0.         0.        ]\n",
      " [0.         0.        ]\n",
      " [0.0041817  0.        ]]\n",
      "[[0.00741524 0.        ]\n",
      " [0.         0.        ]\n",
      " [0.00394647 0.        ]\n",
      " [0.         0.        ]\n",
      " [0.         0.        ]\n",
      " [0.         0.        ]\n",
      " [0.         0.        ]\n",
      " [0.00614601 0.        ]\n",
      " [0.         0.        ]\n",
      " [0.         0.        ]\n",
      " [0.         0.        ]\n",
      " [0.         0.        ]\n",
      " [0.         0.        ]\n",
      " [0.         0.        ]\n",
      " [0.         0.        ]\n",
      " [0.00220131 0.        ]\n",
      " [0.         0.        ]\n",
      " [0.         0.        ]\n",
      " [0.         0.        ]\n",
      " [0.         0.        ]\n",
      " [0.         0.        ]\n",
      " [0.         0.        ]\n",
      " [0.         0.        ]\n",
      " [0.         0.        ]\n",
      " [0.         0.        ]]\n"
     ]
    }
   ],
   "source": [
    "print(multi_train_prediction)\n",
    "print(multi_test_prediction)"
   ]
  },
  {
   "cell_type": "code",
   "execution_count": 133,
   "metadata": {},
   "outputs": [],
   "source": [
    "scaled_multi_train_predictions = data_handler.rescale_data(multi_train_prediction,\n",
    "        multi_train_diff_one[0],\n",
    "        multi_train_diff_two[0],\n",
    "        multi_train_log[0],\n",
    "        forecast_horizon)\n",
    "scaled_multi_test_predictions = data_handler.rescale_data(multi_test_prediction,\n",
    "        multi_test_diff_one[0],\n",
    "        multi_test_diff_two[0],\n",
    "        multi_test_log[0],\n",
    "        forecast_horizon)"
   ]
  },
  {
   "cell_type": "markdown",
   "metadata": {},
   "source": [
    "Rescale the answers."
   ]
  },
  {
   "cell_type": "code",
   "execution_count": 134,
   "metadata": {},
   "outputs": [],
   "source": [
    "scaled_multi_train = data_handler.rescale_data(y_multi_train,\n",
    "        multi_train_diff_one[0],\n",
    "        multi_train_diff_two[0],\n",
    "        multi_train_log[0],\n",
    "        forecast_horizon)\n",
    "scaled_multi_test = data_handler.rescale_data(y_multi_test,\n",
    "        multi_test_diff_one[0],\n",
    "        multi_test_diff_two[0],\n",
    "        multi_test_log[0],\n",
    "        forecast_horizon)"
   ]
  },
  {
   "cell_type": "code",
   "execution_count": 135,
   "metadata": {},
   "outputs": [],
   "source": [
    "competition_multi_train_rmse = rmse(scaled_multi_train, scaled_multi_train_predictions)\n",
    "competition_multi_test_rmse = rmse(scaled_multi_test, scaled_multi_test_predictions)\n",
    "competition_multi_train_rmsle = rmsle(scaled_multi_train, scaled_multi_train_predictions)\n",
    "competition_multi_test_rmsle = rmsle(scaled_multi_test, scaled_multi_test_predictions)"
   ]
  },
  {
   "cell_type": "markdown",
   "metadata": {},
   "source": [
    "## 5.4 Results on global data <a name=\"lstm_global\"></a>"
   ]
  },
  {
   "cell_type": "markdown",
   "metadata": {},
   "source": [
    "Make the predictions. The predictions on the training data are only used to measure the model's performance as it should have<br>\n",
    "already learnt it."
   ]
  },
  {
   "cell_type": "code",
   "execution_count": 136,
   "metadata": {},
   "outputs": [],
   "source": [
    "train_prediction = lstm_model.predict(x_train)\n",
    "test_prediction = lstm_model.predict(x_test)"
   ]
  },
  {
   "cell_type": "markdown",
   "metadata": {},
   "source": [
    "Rescale predictions."
   ]
  },
  {
   "cell_type": "code",
   "execution_count": 137,
   "metadata": {},
   "outputs": [],
   "source": [
    "scaled_train_predictions = data_handler.rescale_data(train_prediction,\n",
    "        train_diff_one[0],\n",
    "        train_diff_two[0],\n",
    "        train_log[0],\n",
    "        forecast_horizon)\n",
    "scaled_test_predictions = data_handler.rescale_data(test_prediction,\n",
    "        test_diff_one[0],\n",
    "        test_diff_two[0],\n",
    "        test_log[0],\n",
    "        forecast_horizon)"
   ]
  },
  {
   "cell_type": "markdown",
   "metadata": {},
   "source": [
    "Rescale the answers."
   ]
  },
  {
   "cell_type": "code",
   "execution_count": 138,
   "metadata": {},
   "outputs": [],
   "source": [
    "scaled_train = data_handler.rescale_data(y_train,\n",
    "        train_diff_one[0],\n",
    "        train_diff_two[0],\n",
    "        train_log[0],\n",
    "        forecast_horizon)\n",
    "scaled_test = data_handler.rescale_data(y_test,\n",
    "        test_diff_one[0],\n",
    "        test_diff_two[0],\n",
    "        test_log[0],\n",
    "        forecast_horizon)"
   ]
  },
  {
   "cell_type": "markdown",
   "metadata": {},
   "source": [
    "Calculate the error values."
   ]
  },
  {
   "cell_type": "code",
   "execution_count": 139,
   "metadata": {},
   "outputs": [],
   "source": [
    "lstm_train_rmse = rmse(scaled_train, scaled_train_predictions)\n",
    "lstm_test_rmse = rmse(scaled_test, scaled_test_predictions)\n",
    "lstm_train_rmsle = rmsle(scaled_train, scaled_train_predictions)\n",
    "lstm_test_rmsle = rmsle(scaled_test, scaled_test_predictions)"
   ]
  },
  {
   "cell_type": "markdown",
   "metadata": {},
   "source": [
    "Plot model loss history."
   ]
  },
  {
   "cell_type": "code",
   "execution_count": 140,
   "metadata": {},
   "outputs": [
    {
     "data": {
      "image/png": "[encoded data removed]",
      "text/plain": [
       "<Figure size 720x360 with 1 Axes>"
      ]
     },
     "metadata": {
      "needs_background": "light"
     },
     "output_type": "display_data"
    }
   ],
   "source": [
    "plot_data([lstm_history.history['loss'], lstm_history.history['val_loss']], 'Loss during LSTM training', ['Train', 'Test'], 'Loss', 'Epoch', adjust_xaxis=False)"
   ]
  },
  {
   "cell_type": "markdown",
   "metadata": {},
   "source": [
    "Some preparation to plot the predictions is needed."
   ]
  },
  {
   "cell_type": "markdown",
   "metadata": {},
   "source": [
    "The first sample is lost after each differencing, so the + 2 is required."
   ]
  },
  {
   "cell_type": "code",
   "execution_count": 141,
   "metadata": {},
   "outputs": [],
   "source": [
    "empty_arr = np.empty((forecast_horizon+2, 1))\n",
    "empty_arr[:] = np.nan\n",
    "shifted_train = np.concatenate([empty_arr, scaled_train_predictions])\n",
    "# The test data mus be shifted by 2 empty arrays plus the training data.\n",
    "empty_arr = np.empty(((forecast_horizon+2)*2+len(scaled_train_predictions), 1))\n",
    "empty_arr[:] = np.nan\n",
    "shifted_test = np.concatenate([empty_arr, scaled_test_predictions])"
   ]
  },
  {
   "cell_type": "markdown",
   "metadata": {},
   "source": [
    "Plot the predictions over the original dataset."
   ]
  },
  {
   "cell_type": "code",
   "execution_count": 142,
   "metadata": {},
   "outputs": [
    {
     "data": {
      "image/png": "[encoded data removed]",
      "text/plain": [
       "<Figure size 720x360 with 1 Axes>"
      ]
     },
     "metadata": {
      "needs_background": "light"
     },
     "output_type": "display_data"
    }
   ],
   "source": [
    "plot_data([current_infected, shifted_train, shifted_test], 'LSTM prediction over original', ['Current infected', 'Train predictions', 'Test predictions'], 'Time', 'People', 'Number of infected')"
   ]
  },
  {
   "cell_type": "markdown",
   "metadata": {},
   "source": [
    "## 5.5 Can it generalize? <a name=\"lstm_gener\"></a>"
   ]
  },
  {
   "cell_type": "markdown",
   "metadata": {},
   "source": [
    "In this chapter the LSTM trained on the global data is tested on data from individual countries. This will determine how well<br>\n",
    "the model can generalize the COVID-19 data."
   ]
  },
  {
   "cell_type": "markdown",
   "metadata": {},
   "source": [
    "The data must be prepared in the same way as the global infected data. This function provides a more generic approach to the<br>\n",
    "whole task of preparing the data and making the predictions."
   ]
  },
  {
   "cell_type": "code",
   "execution_count": 143,
   "metadata": {},
   "outputs": [],
   "source": [
    "def make_lstm_predictions(data):\n",
    "    _, test = data_handler.split_train_test(data, train_set_ratio)\n",
    "    log, diff_one, diff_two, stationary = data_handler.adjust_data(test)\n",
    "    supervised = data_handler.series_to_supervised(stationary, 0, forecast_horizon)\n",
    "    x, y = data_handler.split_horizon(supervised, forecast_horizon)\n",
    "    x = x.reshape(x.shape[0], x.shape[1], features)\n",
    "    predictions = lstm_model.predict(x)\n",
    "    scaled_predictions = data_handler.rescale_data(predictions, diff_one[0], diff_two[0], log[0], forecast_horizon)\n",
    "    scaled_answers = data_handler.rescale_data(y, diff_one[0], diff_two[0], log[0], forecast_horizon)\n",
    "    return scaled_predictions, scaled_answers "
   ]
  },
  {
   "cell_type": "markdown",
   "metadata": {},
   "source": [
    "#### Global."
   ]
  },
  {
   "cell_type": "code",
   "execution_count": 144,
   "metadata": {},
   "outputs": [],
   "source": [
    "global_infected_pred, global_infected_real = make_lstm_predictions(confirmed)\n",
    "global_deceased_pred, global_deceased_real = make_lstm_predictions(deceased)"
   ]
  },
  {
   "cell_type": "markdown",
   "metadata": {},
   "source": [
    "#### UK."
   ]
  },
  {
   "cell_type": "code",
   "execution_count": 145,
   "metadata": {},
   "outputs": [],
   "source": [
    "uk_deceased, uk_infected = get_country_data(\"United Kingdom\")\n",
    "uk_infected_pred, uk_infected_real = make_lstm_predictions(uk_infected)\n",
    "uk_deceased_pred, uk_deceased_real = make_lstm_predictions(uk_deceased)"
   ]
  },
  {
   "cell_type": "markdown",
   "metadata": {},
   "source": [
    "#### USA."
   ]
  },
  {
   "cell_type": "code",
   "execution_count": 146,
   "metadata": {},
   "outputs": [],
   "source": [
    "us_deceased, us_infected = get_country_data(\"US\")\n",
    "us_infected_pred, us_infected_real = make_lstm_predictions(us_infected)\n",
    "us_deceased_pred, us_deceased_real = make_lstm_predictions(us_deceased)"
   ]
  },
  {
   "cell_type": "markdown",
   "metadata": {},
   "source": [
    "#### China."
   ]
  },
  {
   "cell_type": "code",
   "execution_count": 147,
   "metadata": {},
   "outputs": [],
   "source": [
    "china_deceased, china_infected = get_country_data(\"China\")\n",
    "china_infected_pred, china_infected_real = make_lstm_predictions(china_infected)\n",
    "china_deceased_pred, china_deceased_real  = make_lstm_predictions(china_deceased)"
   ]
  },
  {
   "cell_type": "markdown",
   "metadata": {},
   "source": [
    "The results"
   ]
  },
  {
   "cell_type": "code",
   "execution_count": 148,
   "metadata": {},
   "outputs": [
    {
     "data": {
      "image/png": "[encoded data removed]",
      "text/plain": [
       "<Figure size 720x360 with 4 Axes>"
      ]
     },
     "metadata": {
      "needs_background": "light"
     },
     "output_type": "display_data"
    }
   ],
   "source": [
    "fig, axes = plt.subplots(2, 2)\n",
    "fig.suptitle(\"Comparisson of LSTM forecasts on deceased data\")\n",
    "axes[0, 0].plot(global_deceased_pred)\n",
    "axes[0, 0].plot(global_deceased_real)\n",
    "axes[0, 0].set_title('Global deceased forecast')\n",
    "axes[0, 1].plot(uk_deceased_pred)\n",
    "axes[0, 1].plot(uk_deceased_real)\n",
    "axes[0, 1].set_title('UK deceased forecast')\n",
    "axes[1, 0].plot(us_deceased_pred)\n",
    "axes[1, 0].plot(us_deceased_real)\n",
    "axes[1, 0].set_title('USA deceased forecast')\n",
    "axes[1, 1].plot(china_deceased_pred)\n",
    "axes[1, 1].plot(china_deceased_real)\n",
    "axes[1, 1].set_title('China deceased forecast')\n",
    "fig.tight_layout(rect=[0, 0.03, 1, 0.95])"
   ]
  },
  {
   "cell_type": "code",
   "execution_count": 149,
   "metadata": {},
   "outputs": [
    {
     "data": {
      "image/png": "[encoded data removed]",
      "text/plain": [
       "<Figure size 720x360 with 4 Axes>"
      ]
     },
     "metadata": {
      "needs_background": "light"
     },
     "output_type": "display_data"
    }
   ],
   "source": [
    "fig, axes = plt.subplots(2, 2)\n",
    "fig.suptitle(\"Comparisson of LSTM forecasts on infected data\")\n",
    "axes[0, 0].plot(global_infected_pred)\n",
    "axes[0, 0].plot(global_infected_real)\n",
    "axes[0, 0].set_title('Global infected forecast')\n",
    "axes[0, 1].plot(uk_infected_pred)\n",
    "axes[0, 1].plot(uk_infected_real)\n",
    "axes[0, 1].set_title('UK infected forecast')\n",
    "axes[1, 0].plot(us_infected_pred)\n",
    "axes[1, 0].plot(us_infected_real)\n",
    "axes[1, 0].set_title('USA infected forecast')\n",
    "axes[1, 1].plot(china_infected_pred)\n",
    "axes[1, 1].plot(china_infected_real)\n",
    "axes[1, 1].set_title('China infected forecast')\n",
    "fig.tight_layout(rect=[0, 0.03, 1, 0.95])"
   ]
  },
  {
   "cell_type": "markdown",
   "metadata": {},
   "source": [
    "# 6. The GRU <a name=\"gru\"></a>"
   ]
  },
  {
   "cell_type": "markdown",
   "metadata": {},
   "source": [
    "The GRU is a simplified and modern version of the LSTM. Because the code in this chapter is essencialy the same as the LSTM,<br>\n",
    "less explanations were provided."
   ]
  },
  {
   "cell_type": "code",
   "execution_count": 150,
   "metadata": {},
   "outputs": [],
   "source": [
    "gru_model = Sequential()"
   ]
  },
  {
   "cell_type": "markdown",
   "metadata": {},
   "source": [
    "## 6.1 Input, hidden and output layers <a name=\"gru_layers\"></a>"
   ]
  },
  {
   "cell_type": "markdown",
   "metadata": {},
   "source": [
    "### 6.1.1 The input layer."
   ]
  },
  {
   "cell_type": "code",
   "execution_count": 151,
   "metadata": {},
   "outputs": [],
   "source": [
    "gru_input_layer = (forecast_horizon, 1)"
   ]
  },
  {
   "cell_type": "markdown",
   "metadata": {},
   "source": [
    "### 6.1.2 The hidden layer."
   ]
  },
  {
   "cell_type": "code",
   "execution_count": 152,
   "metadata": {},
   "outputs": [],
   "source": [
    "gru_nodes = 5\n",
    "gru_model.add(GRU(gru_nodes, input_shape=gru_input_layer))"
   ]
  },
  {
   "cell_type": "code",
   "execution_count": 153,
   "metadata": {},
   "outputs": [],
   "source": [
    "gru_activation = \"relu\"\n",
    "gru_model.add(Activation(gru_activation))"
   ]
  },
  {
   "cell_type": "code",
   "execution_count": 154,
   "metadata": {},
   "outputs": [],
   "source": [
    "gru_rate = 0.1\n",
    "gru_model.add(Dropout(gru_rate))"
   ]
  },
  {
   "cell_type": "markdown",
   "metadata": {},
   "source": [
    "### 6.1.3 The output layer."
   ]
  },
  {
   "cell_type": "code",
   "execution_count": 155,
   "metadata": {},
   "outputs": [],
   "source": [
    "gru_out_shape = 1\n",
    "gru_model.add(Dense(gru_out_shape))"
   ]
  },
  {
   "cell_type": "code",
   "execution_count": 156,
   "metadata": {},
   "outputs": [],
   "source": [
    "gru_dense_activation = \"sigmoid\"\n",
    "gru_model.add(Activation(gru_dense_activation))"
   ]
  },
  {
   "cell_type": "markdown",
   "metadata": {},
   "source": [
    "## 6.2 Training the model <a name=\"gru_train\"></a>"
   ]
  },
  {
   "cell_type": "code",
   "execution_count": 157,
   "metadata": {},
   "outputs": [],
   "source": [
    "gru_loss = \"mean_squared_error\"\n",
    "gru_opti = \"adam\"\n",
    "gru_model.compile(loss=gru_loss, optimizer=gru_opti)"
   ]
  },
  {
   "cell_type": "markdown",
   "metadata": {},
   "source": [
    "The early stopping callbak is the same as the one used in the LSTM."
   ]
  },
  {
   "cell_type": "code",
   "execution_count": 158,
   "metadata": {},
   "outputs": [],
   "source": [
    "gru_history = gru_model.fit(x_train, y_train, epochs=1000, batch_size=1, verbose=0, callbacks=[early_stopping],\n",
    "        validation_split=0.2)"
   ]
  },
  {
   "cell_type": "markdown",
   "metadata": {},
   "source": [
    "## 6.3 Results on global data <a name=\"gru_global\"></a>"
   ]
  },
  {
   "cell_type": "code",
   "execution_count": 159,
   "metadata": {},
   "outputs": [],
   "source": [
    "gru_train_prediction = gru_model.predict(x_train)\n",
    "gru_test_prediction = gru_model.predict(x_test)"
   ]
  },
  {
   "cell_type": "code",
   "execution_count": 160,
   "metadata": {},
   "outputs": [],
   "source": [
    "gru_scaled_train_predictions = data_handler.rescale_data(gru_train_prediction,\n",
    "        train_diff_one[0],\n",
    "        train_diff_two[0],\n",
    "        train_log[0],\n",
    "        forecast_horizon)\n",
    "gru_scaled_test_predictions = data_handler.rescale_data(gru_test_prediction,\n",
    "        test_diff_one[0],\n",
    "        test_diff_two[0],\n",
    "        test_log[0],\n",
    "        forecast_horizon)"
   ]
  },
  {
   "cell_type": "code",
   "execution_count": 161,
   "metadata": {},
   "outputs": [],
   "source": [
    "gru_scaled_train = data_handler.rescale_data(y_train,\n",
    "        train_diff_one[0],\n",
    "        train_diff_two[0],\n",
    "        train_log[0],\n",
    "        forecast_horizon)\n",
    "gru_scaled_test = data_handler.rescale_data(y_test,\n",
    "        test_diff_one[0],\n",
    "        test_diff_two[0],\n",
    "        test_log[0],\n",
    "        forecast_horizon)"
   ]
  },
  {
   "cell_type": "code",
   "execution_count": 162,
   "metadata": {},
   "outputs": [],
   "source": [
    "gru_train_rmse = rmse(gru_scaled_train, gru_scaled_train_predictions)\n",
    "gru_test_rmse = rmse(gru_scaled_test, gru_scaled_test_predictions)\n",
    "gru_train_rmsle = rmsle(gru_scaled_train, gru_scaled_train_predictions)\n",
    "gru_test_rmsle = rmsle(gru_scaled_test, gru_scaled_test_predictions)"
   ]
  },
  {
   "cell_type": "code",
   "execution_count": 167,
   "metadata": {},
   "outputs": [
    {
     "data": {
      "image/png": "[encoded data removed]",
      "text/plain": [
       "<Figure size 720x360 with 1 Axes>"
      ]
     },
     "metadata": {
      "needs_background": "light"
     },
     "output_type": "display_data"
    }
   ],
   "source": [
    "plot_data([gru_history.history['loss'], gru_history.history['val_loss']], 'Loss during GRU training', ['Train', 'Test'], 'Epoch', 'Loss',\n",
    "        adjust_xaxis=False)"
   ]
  },
  {
   "cell_type": "code",
   "execution_count": 164,
   "metadata": {},
   "outputs": [],
   "source": [
    "empty_arr = np.empty((forecast_horizon+2, 1))\n",
    "empty_arr[:] = np.nan\n",
    "shifted_train = np.concatenate([empty_arr, gru_scaled_train_predictions])\n",
    "# The test data mus be shifted by 2 empty arrays plus the training data.\n",
    "empty_arr = np.empty(((forecast_horizon+2)*2+len(gru_scaled_train_predictions), 1))\n",
    "empty_arr[:] = np.nan\n",
    "shifted_test = np.concatenate([empty_arr, gru_scaled_test_predictions])"
   ]
  },
  {
   "cell_type": "code",
   "execution_count": 165,
   "metadata": {},
   "outputs": [
    {
     "data": {
      "image/png": "[encoded data removed]",
      "text/plain": [
       "<Figure size 720x360 with 1 Axes>"
      ]
     },
     "metadata": {
      "needs_background": "light"
     },
     "output_type": "display_data"
    }
   ],
   "source": [
    "plot_data([current_infected, shifted_train, shifted_test], 'GRU prediction over original',  ['Current infected', 'Train predictions', 'Test predictions'], 'Time', 'People', 'Number of infected')"
   ]
  },
  {
   "cell_type": "markdown",
   "metadata": {},
   "source": [
    "# 7. Summary of results <a name=\"summary\"></a>"
   ]
  },
  {
   "cell_type": "markdown",
   "metadata": {},
   "source": [
    "LSTM results."
   ]
  },
  {
   "cell_type": "code",
   "execution_count": 166,
   "metadata": {},
   "outputs": [
    {
     "name": "stdout",
     "output_type": "stream",
     "text": [
      "RMSE on train: 10513.124002092134\n",
      "RMSE on test: 27110.552373614628\n",
      "RMSLE on train: 0.18340779733600865\n",
      "RMSLE on test: 0.01746836058290489\n",
      "RMSE on train: 10442.058512597463\n",
      "RMSE on test: 26732.36739577141\n",
      "RMSLE on train: 0.18242222574686132\n",
      "RMSLE on test: 0.01733481386338913\n",
      "RMSE on train: 8166.758382529261\n",
      "RMSE on test: 21536.327372714986\n",
      "RMSLE on train: 0.14079604731126152\n",
      "RMSLE on test: 0.009007206357125739\n"
     ]
    }
   ],
   "source": [
    "print(f\"RMSE on train: {lstm_train_rmse}\")\n",
    "print(f\"RMSE on test: {lstm_test_rmse}\")\n",
    "print(f\"RMSLE on train: {lstm_train_rmsle}\")\n",
    "print(f\"RMSLE on test: {lstm_test_rmsle}\")\n",
    "# GRU results.\n",
    "print(f\"RMSE on train: {gru_train_rmse}\")\n",
    "print(f\"RMSE on test: {gru_test_rmse}\")\n",
    "print(f\"RMSLE on train: {gru_train_rmsle}\")\n",
    "print(f\"RMSLE on test: {gru_test_rmsle}\")\n",
    "# Competition results.\n",
    "print(f\"RMSE on train: {competition_multi_train_rmse}\")\n",
    "print(f\"RMSE on test: {competition_multi_test_rmse}\")\n",
    "print(f\"RMSLE on train: {competition_multi_train_rmsle}\")\n",
    "print(f\"RMSLE on test: {competition_multi_test_rmsle}\")"
   ]
  },
  {
   "cell_type": "markdown",
   "metadata": {},
   "source": [
    "## 7.1 Plot predictions of all algorithms over the original data <a name=\"summary_global\"></a><br>\n",
    "## 7.2 Summarize findings <a name=\"summary_findings\"></a>"
   ]
  }
 ],
 "metadata": {
  "kernelspec": {
   "display_name": "Python 3",
   "language": "python",
   "name": "python3"
  },
  "language_info": {
   "codemirror_mode": {
    "name": "ipython",
    "version": 3
   },
   "file_extension": ".py",
   "mimetype": "text/x-python",
   "name": "python",
   "nbconvert_exporter": "python",
   "pygments_lexer": "ipython3",
   "version": "3.6.8"
  }
 },
 "nbformat": 4,
 "nbformat_minor": 2
}
